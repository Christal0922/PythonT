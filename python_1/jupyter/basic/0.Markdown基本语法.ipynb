{
 "cells": [
  {
   "cell_type": "markdown",
   "id": "088b469d",
   "metadata": {},
   "source": [
    "# 标题设置"
   ]
  },
  {
   "cell_type": "raw",
   "id": "7a656bc3",
   "metadata": {},
   "source": [
    "# 这是一级标题\n",
    "## 这是二级标题\n",
    "### 这是三级标题\n",
    "#### 这是四级标题\n",
    "##### 这是五级标题"
   ]
  },
  {
   "cell_type": "markdown",
   "id": "15f39410",
   "metadata": {},
   "source": [
    "# 字体"
   ]
  },
  {
   "cell_type": "raw",
   "id": "5322f70f",
   "metadata": {},
   "source": [
    "**加粗**\n",
    "*斜体*\n",
    "***斜体加粗***\n",
    "~~删除线~~\n",
    "换行符 空格+空格+回车键\n",
    "<u>下划线</u>"
   ]
  },
  {
   "cell_type": "markdown",
   "id": "cf00e99c",
   "metadata": {},
   "source": [
    "*斜体*  \n",
    "**粗体**  \n",
    "***加粗斜体***  \n",
    "~~删除线~~  \n",
    "<u>下划线</u>\n"
   ]
  },
  {
   "cell_type": "markdown",
   "id": "c8299684",
   "metadata": {},
   "source": [
    "# 引用"
   ]
  },
  {
   "cell_type": "raw",
   "id": "4de11c80",
   "metadata": {},
   "source": [
    " > 这是引用的内容\n",
    " >> 这是引用的内容"
   ]
  },
  {
   "cell_type": "markdown",
   "id": "baba6ae7",
   "metadata": {},
   "source": [
    "> 这是引用的内容\n",
    ">> 这是引用的内容"
   ]
  },
  {
   "cell_type": "markdown",
   "id": "7071f1f2",
   "metadata": {},
   "source": [
    "# 分割线\n",
    "三个或者三个以上的 - 或者 * 都可以"
   ]
  },
  {
   "cell_type": "raw",
   "id": "41995b74",
   "metadata": {},
   "source": [
    "---\n",
    "----\n",
    "***\n",
    "****"
   ]
  },
  {
   "cell_type": "markdown",
   "id": "4021e3fd",
   "metadata": {},
   "source": [
    "---\n",
    "----\n",
    "***\n",
    "* * *\n",
    "****"
   ]
  },
  {
   "cell_type": "markdown",
   "id": "b5eb2113",
   "metadata": {},
   "source": [
    "# 图片"
   ]
  },
  {
   "cell_type": "raw",
   "id": "8d880241",
   "metadata": {},
   "source": [
    "！[图片alt](图片地址 \"图片title\")\n",
    "图片alt就是显示在图片下面的文字，相当于对图片内容的解释\n",
    "图片title是图片的标题，当鼠标移到图片上时显示的内容。title可加可不加"
   ]
  },
  {
   "cell_type": "markdown",
   "id": "7e046bb7",
   "metadata": {},
   "source": [
    "![blockchain](https://ss0.bdstatic.com/70cFvHSh_Q1YnxGkpoWK1HF6hhy/it/u=702257389,1274025419&fm=27&gp=0.jpg \"区块链\")"
   ]
  },
  {
   "cell_type": "markdown",
   "id": "c6e4367c",
   "metadata": {},
   "source": [
    "![RUNOOB 图标](http://static.runoob.com/images/runoob-logo.png)\n",
    "![RUNOOB 图标](http://static.runoob.com/images/runoob-logo.png \"RUNOOB\")\n",
    "<img src=\"http://static.runoob.com/images/runoob-logo.png\" width=\"50%\">"
   ]
  },
  {
   "cell_type": "markdown",
   "id": "625213cd",
   "metadata": {},
   "source": [
    "# 超链接"
   ]
  },
  {
   "cell_type": "raw",
   "id": "f4a6f034",
   "metadata": {},
   "source": [
    "[超链接名](超链接地址 \"超链接title\")\n",
    "title可加可不加"
   ]
  },
  {
   "cell_type": "markdown",
   "id": "72a3fe87",
   "metadata": {},
   "source": [
    "[极简插件](https://chrome.zzzmh.cn/index#/index \"Chrome插件\n",
    "\")  \n",
    "[印象笔记](https://app.yinxiang.com/fx/f00695e3-8b2b-4345-992f-9ae0918f3a5b \"Chrome插件\n",
    "\")"
   ]
  },
  {
   "cell_type": "markdown",
   "id": "dadd2f3e",
   "metadata": {},
   "source": [
    "# 列表"
   ]
  },
  {
   "cell_type": "markdown",
   "id": "fb46068e",
   "metadata": {},
   "source": [
    "## 无序列表  \n",
    "- 列表内容\n",
    "+ 列表内容\n",
    "* 列表内容"
   ]
  },
  {
   "cell_type": "markdown",
   "id": "a798020c",
   "metadata": {},
   "source": [
    "## 有序列表\n",
    "1. 列表内容\n",
    "2. 列表内容\n",
    "3. 列表内容"
   ]
  },
  {
   "cell_type": "markdown",
   "id": "34bae3c7",
   "metadata": {},
   "source": [
    "## 列表嵌套\n",
    "**前面敲TAB键**  \n",
    "+ 一级内容\n",
    "    + 二级内容\n",
    "        + 三级内容   \n",
    "+ 一级内容\n",
    "\n",
    "1. 我是第一层列表\n",
    "    - 我是第二层列表\n",
    "        1. 我是第三层列表\n",
    "        2. 我是第三层列表"
   ]
  },
  {
   "cell_type": "markdown",
   "id": "27373b81",
   "metadata": {},
   "source": [
    "# 表格"
   ]
  },
  {
   "cell_type": "markdown",
   "id": "6e815642",
   "metadata": {},
   "source": [
    "| 左对齐 | 右对齐 | 居中对齐 |\n",
    "| :-----| ----: | :----: |\n",
    "| 单元格 | 单元格 | 单元格 |\n",
    "| 单元格 | 单元格 | 单元格 |"
   ]
  },
  {
   "cell_type": "markdown",
   "id": "eb246fc2",
   "metadata": {},
   "source": [
    "# 代码"
   ]
  },
  {
   "cell_type": "markdown",
   "id": "75575bf2",
   "metadata": {},
   "source": [
    "`create database hero;`\n",
    "\n",
    "```\n",
    "    print()\n",
    "    print()\n",
    "```"
   ]
  },
  {
   "cell_type": "markdown",
   "id": "265dc59e",
   "metadata": {},
   "source": [
    "# 其他"
   ]
  },
  {
   "cell_type": "markdown",
   "id": "0e8ca8cf",
   "metadata": {},
   "source": [
    "## 脚注\n",
    "创建脚注格式类似这样 [^Runoob]。  \n",
    "[^Runoob]: 引文"
   ]
  },
  {
   "cell_type": "markdown",
   "id": "53f0f818",
   "metadata": {},
   "source": [
    "## 数学公式\n",
    "\\$ 表示在行内，\\$$表示独占一行\n",
    "\n",
    "$$E=mc^2$$"
   ]
  },
  {
   "cell_type": "markdown",
   "id": "2af56239",
   "metadata": {},
   "source": [
    "### 任务列表\n",
    "- [x] write the press release\n",
    "- [ ] update the website"
   ]
  },
  {
   "cell_type": "markdown",
   "id": "bb872476",
   "metadata": {},
   "source": [
    "### My great heading {#custom-10.3.3}"
   ]
  },
  {
   "cell_type": "code",
   "execution_count": null,
   "id": "0d0557c1",
   "metadata": {},
   "outputs": [],
   "source": []
  }
 ],
 "metadata": {
  "kernelspec": {
   "display_name": "mask1",
   "language": "python",
   "name": "mask1"
  },
  "language_info": {
   "codemirror_mode": {
    "name": "ipython",
    "version": 3
   },
   "file_extension": ".py",
   "mimetype": "text/x-python",
   "name": "python",
   "nbconvert_exporter": "python",
   "pygments_lexer": "ipython3",
   "version": "3.8.12"
  },
  "toc": {
   "base_numbering": 1,
   "nav_menu": {},
   "number_sections": true,
   "sideBar": true,
   "skip_h1_title": false,
   "title_cell": "Table of Contents",
   "title_sidebar": "Contents",
   "toc_cell": false,
   "toc_position": {},
   "toc_section_display": true,
   "toc_window_display": false
  }
 },
 "nbformat": 4,
 "nbformat_minor": 5
}
