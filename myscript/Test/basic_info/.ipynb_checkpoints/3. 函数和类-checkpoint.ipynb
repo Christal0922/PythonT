{
 "cells": [
  {
   "cell_type": "markdown",
   "id": "cf3d84ba",
   "metadata": {},
   "source": [
    "# 函数"
   ]
  },
  {
   "cell_type": "markdown",
   "id": "2291f882",
   "metadata": {},
   "source": [
    "## 定义函数"
   ]
  },
  {
   "cell_type": "code",
   "execution_count": null,
   "id": "4e9cb97a",
   "metadata": {},
   "outputs": [],
   "source": [
    "# 问候\n",
    "def greet_user(username):\n",
    "    print(\"Hello, \"+username.title()+\"!\")\n",
    "\n",
    "greet_user('jesse')\n",
    "\n",
    "# pets\n",
    "def describe_pet(animal_type,pet_name):\n",
    "    print(\"\\nI have a \"+animal_type+\".\")\n",
    "    print(\"My \"+animal_type+\"'s name is '\"+pet_name.title()+\".\")\n",
    "\n",
    "describe_pet('hamster','harry')\n",
    "describe_pet(animal_type='hamster',pet_name='harry')\n",
    "describe_pet('dog','willie')"
   ]
  },
  {
   "cell_type": "code",
   "execution_count": null,
   "id": "d81062a4",
   "metadata": {},
   "outputs": [],
   "source": [
    "# 默认值\n",
    "def describe_pet(pet_name,animal_type='dog'):\n",
    "    print(\"\\nI have a \"+animal_type+\".\")\n",
    "    print(\"My \"+animal_type+\"'s name is '\"+pet_name.title()+\".\")\n",
    "\n",
    "describe_pet(pet_name='willie')\n",
    "describe_pet(pet_name='harry', animal_type='hamster')"
   ]
  },
  {
   "cell_type": "markdown",
   "id": "bb27cd3d",
   "metadata": {},
   "source": [
    "## 返回值"
   ]
  },
  {
   "cell_type": "code",
   "execution_count": null,
   "id": "67d6f87a",
   "metadata": {},
   "outputs": [],
   "source": [
    "# 返回简单值，返回全名\n",
    "def get_formatted_name(first_name, last_name):\n",
    "    full_name=first_name+\" \"+last_name\n",
    "    return full_name.title()\n",
    "\n",
    "musician = get_formatted_name('jimi','hendrix')\n",
    "print(musician)"
   ]
  },
  {
   "cell_type": "code",
   "execution_count": null,
   "id": "287f85ef",
   "metadata": {},
   "outputs": [],
   "source": [
    "# 中间名可选\n",
    "def get_formatted_name(first_name,last_name,middle_name=\"\"):\n",
    "    if middle_name:\n",
    "        full_name=first_name+\" \"+middle_name+\" \"+last_name\n",
    "    else:\n",
    "        full_name=first_name+\" \"+last_name\n",
    "    return full_name.title()\n",
    "\n",
    "musician = get_formatted_name('jimi','hendrix')\n",
    "print(musician)\n",
    "musician = get_formatted_name('john','hooker','lee')\n",
    "print(musician)\n",
    "    "
   ]
  },
  {
   "cell_type": "code",
   "execution_count": null,
   "id": "c55bab41",
   "metadata": {},
   "outputs": [],
   "source": [
    "# 返回字典\n",
    "def build_person(first_name,last_name):\n",
    "    person={'first':first_name,'last':last_name}\n",
    "    return person\n",
    "musician = build_person('jimi','hendrix')\n",
    "print(musician)\n",
    "\n",
    "# 字典中加入可选形参age\n",
    "def build_person(first_name,last_name,age=\"\"):\n",
    "    person={'first':first_name,'last':last_name}\n",
    "    if age:\n",
    "        person['age']=age\n",
    "    return person\n",
    "\n",
    "musician = build_person('jimi','hendrix',age = 27)\n",
    "print(musician)"
   ]
  },
  {
   "cell_type": "code",
   "execution_count": null,
   "id": "762c9f4f",
   "metadata": {},
   "outputs": [],
   "source": [
    "# 结合使用函数和while循环\n",
    "def get_formatted_name(first_name,last_name,middle_name):\n",
    "    if middle_name == 'no':\n",
    "        full_name=first_name+\" \"+last_name\n",
    "    else:\n",
    "        full_name=first_name+\" \"+middle_name+\" \"+last_name \n",
    "    return full_name.title()\n",
    "\n",
    "while True:\n",
    "    print(\"\\nPlease tell me your name\")\n",
    "    print(\"enter 'q'at any time to quit\")\n",
    "    first_name=input(\"first name:\")\n",
    "    if first_name == 'q':\n",
    "        break\n",
    "    middle_name=input(\"Please input your middle name or type no\")\n",
    "    if middle_name == 'q':\n",
    "        break\n",
    "    last_name=input(\"last name\")\n",
    "    if last_name == 'q':\n",
    "        break\n",
    "    full_name = get_formatted_name(first_name,last_name,middle_name)\n",
    "    print(\"Hello, \"+full_name.title()+\"!\")\n"
   ]
  },
  {
   "cell_type": "code",
   "execution_count": null,
   "id": "7ca8f9d1",
   "metadata": {},
   "outputs": [],
   "source": [
    "# 传递列表\n",
    "def greet_users(names):\n",
    "    for name in names:\n",
    "        message = \"Hello, \"+name.title()+\"!\"\n",
    "        print(message)\n",
    "usernames = ['hannah','ty','margot']\n",
    "greet_users(usernames)"
   ]
  },
  {
   "cell_type": "code",
   "execution_count": null,
   "id": "0139b40a",
   "metadata": {},
   "outputs": [],
   "source": [
    "# 在函数中修改列表\n",
    "def print_models(unprinted_designs, completed_models):\n",
    "    while unprinted_designs:\n",
    "        current_design = unprinted_designs.pop()\n",
    "        print(\"Printing model: \"+current_design)\n",
    "        completed_models.append(current_design)\n",
    "def show_completed_models(completed_models):\n",
    "    print(\"\\nThe following models have been printed:\")\n",
    "    for completed_model in completed_models:\n",
    "        print(completed_model)\n",
    "\n",
    "unprinted_designs = ['iphone case','robot pendant','dodecahedron']\n",
    "completed_models = []\n",
    "print_models(unprinted_designs,completed_models)\n",
    "show_completed_models(completed_models)\n"
   ]
  },
  {
   "cell_type": "code",
   "execution_count": null,
   "id": "73bf5f2e",
   "metadata": {},
   "outputs": [],
   "source": [
    "# 禁止函数修改列表，可选用列表的副本[:]\n",
    "def print_models(unprinted_designs, completed_models):\n",
    "    while unprinted_designs:\n",
    "        current_design = unprinted_designs.pop()\n",
    "        print(\"Printing model: \"+current_design)\n",
    "        completed_models.append(current_design)\n",
    "def show_completed_models(completed_models):\n",
    "    print(\"\\nThe following models have been printed:\")\n",
    "    for completed_model in completed_models:\n",
    "        print(completed_model)\n",
    "\n",
    "unprinted_designs = ['iphone case','robot pendant','dodecahedron']\n",
    "completed_models = []\n",
    "print_models(unprinted_designs[:],completed_models)\n",
    "show_completed_models(completed_models)\n"
   ]
  },
  {
   "cell_type": "code",
   "execution_count": null,
   "id": "2a2f7b85",
   "metadata": {},
   "outputs": [],
   "source": [
    "# 传递任何数量的实参,形参名*toppings中的星号让Python创建一个名为toppings的空元组，并将收到的所有值都封装到这个元组中\n",
    "def make_pizza(*toppings):\n",
    "    print(toppings)\n",
    "make_pizza('pepperoni')\n",
    "make_pizza('mushrooms','green peppers','extra cheese')\n",
    "\n",
    "# 将print语句替换为一个循环，对配料列表遍历\n",
    "def make_pizza(*toppings):\n",
    "    print(\"\\nMaking a pizza with the following toppings\")\n",
    "    for topping in toppings:\n",
    "        print(\"- \"+topping)\n",
    "make_pizza('pepperoni')\n",
    "make_pizza('mushrooms','green peppers','extra cheese')\n"
   ]
  },
  {
   "cell_type": "code",
   "execution_count": null,
   "id": "f62014d5",
   "metadata": {},
   "outputs": [],
   "source": [
    "# 结合使用位置实参和任意数量实参, 如果要让函数接受不同类型的实参，必须在函数定义中将接纳任意数量实参的形参放在最后\n",
    "def make_pizza(size,*toppings):\n",
    "    print(\"\\nMaking a \"+str(size)+\n",
    "         \"-inch pizza with the following toppings:\")\n",
    "    for topping in toppings:\n",
    "        print(\"- \"+topping)\n",
    "\n",
    "make_pizza(16,'pepperoni')\n",
    "make_pizza(12,'mushroom','green peppers','extra cheese')\n"
   ]
  },
  {
   "cell_type": "code",
   "execution_count": null,
   "id": "642a8373",
   "metadata": {},
   "outputs": [],
   "source": [
    "# 创建一个字典，其中包含我们知道的有关用户的一切\n",
    "def build_profile(first,last,**user_info):\n",
    "    profile = {}\n",
    "    profile['first name'] = first\n",
    "    profile['last_name'] = last\n",
    "    for key,value in user_info.items():\n",
    "        profile[key] = value\n",
    "    return profile\n",
    "user_profile = build_profile('albert','einstein',\n",
    "                            location='princeton',\n",
    "                            field='physics')\n",
    "print(user_profile)\n"
   ]
  },
  {
   "cell_type": "markdown",
   "id": "13c88e31",
   "metadata": {},
   "source": [
    "## import py文件中的函数"
   ]
  },
  {
   "cell_type": "code",
   "execution_count": null,
   "id": "5b859d41",
   "metadata": {},
   "outputs": [],
   "source": [
    "import pizza2\n",
    "pizza2.make_pizza(16,'pepperoni')\n",
    "pizza2.make_pizza(12,'mushrooms','green peppers','extra cheese')"
   ]
  },
  {
   "cell_type": "code",
   "execution_count": null,
   "id": "e44bf1d9",
   "metadata": {},
   "outputs": [],
   "source": [
    "from pizza2 import make_pizza\n",
    "make_pizza(16,'pepperoni')\n",
    "make_pizza(12,'mushrooms','green peppers','extra cheese')\n"
   ]
  },
  {
   "cell_type": "code",
   "execution_count": null,
   "id": "b294e615",
   "metadata": {},
   "outputs": [],
   "source": [
    "# 使用as给函数指定别名\n",
    "from pizza2 import make_pizza as mp\n",
    "mp(16,'pepperoni')\n",
    "mp(12,'mushrooms','green peppers','extra cheese')\n"
   ]
  },
  {
   "cell_type": "code",
   "execution_count": null,
   "id": "1c097f6b",
   "metadata": {},
   "outputs": [],
   "source": [
    "# 使用as给模块指定别名\n",
    "import pizza2 as p\n",
    "from pizza2 import make_pizza\n",
    "p.make_pizza(16,'pepperoni')\n",
    "p.make_pizza(12,'mushrooms','green peppers','extra cheese')"
   ]
  },
  {
   "cell_type": "code",
   "execution_count": null,
   "id": "150b6eda",
   "metadata": {},
   "outputs": [],
   "source": [
    "# 导入模块中的所有函数,使用星号（*）运算符可让Python导入模块中的所有函数\n",
    "from pizza2 import *\n",
    "make_pizza(16,'pepperoni')\n",
    "make_pizza(12,'mushrooms','green peppers','extra cheese')"
   ]
  },
  {
   "cell_type": "markdown",
   "id": "f6bb99dc",
   "metadata": {},
   "source": [
    "## 函数编写指南"
   ]
  },
  {
   "cell_type": "markdown",
   "id": "815e2ce4",
   "metadata": {},
   "source": [
    "```\n",
    "def function_name(parameter_0,parameter_1='default value')\n",
    "function_name(value_0,parameter_1='value')\n",
    "```"
   ]
  },
  {
   "cell_type": "markdown",
   "id": "8f0fb6e8",
   "metadata": {},
   "source": [
    "# 类"
   ]
  },
  {
   "cell_type": "markdown",
   "id": "9123b038",
   "metadata": {},
   "source": [
    "## 创建和使用类"
   ]
  },
  {
   "cell_type": "code",
   "execution_count": null,
   "id": "87cb0ae4",
   "metadata": {},
   "outputs": [],
   "source": [
    "# 创建Dog类\n",
    "class Dog():\n",
    "    \"\"\"一次模拟小狗的简单尝试\"\"\"\n",
    "    def __init__(self,name,age):\n",
    "        self.name = name\n",
    "        self.age = age\n",
    "    \n",
    "    def sit(self):\n",
    "        print(self.name.title()+\" is now sitting\")\n",
    "    \n",
    "    def roll_over(self):\n",
    "        print(self.name.title()+\" rolled over!\")\n",
    "my_dog = Dog('willie',6)\n",
    "print(\"My dog's name is \"+my_dog.name.title()+\".\")\n",
    "print(\"My dog is \"+str(my_dog.age)+\" years old.\")"
   ]
  },
  {
   "cell_type": "code",
   "execution_count": null,
   "id": "38e08539",
   "metadata": {},
   "outputs": [],
   "source": [
    "class Car():\n",
    "  \"\"\"docstring for Car\"\"\"\n",
    "  def __init__(self, make,model,year):\n",
    "    self.make = make\n",
    "    self.model = model\n",
    "    self.year = year\n",
    "  def get_descriptive_name(self):\n",
    "    long_name = str(self.year)+' '+self.make+' '+self.model\n",
    "    return long_name.title()\n",
    "my_new_car = Car('audi','a4',2016)\n",
    "print(my_new_car.get_descriptive_name())"
   ]
  },
  {
   "cell_type": "code",
   "execution_count": null,
   "id": "8e78cd92",
   "metadata": {},
   "outputs": [],
   "source": [
    "# 给属性设置默认值\n",
    "class Car():\n",
    "  \"\"\"docstring for Car\"\"\"\n",
    "  def __init__(self, make,model,year):\n",
    "    self.make = make\n",
    "    self.model = model\n",
    "    self.year = year\n",
    "    self.odometer_reading = 0\n",
    "  def get_descriptive_name(self):\n",
    "    long_name = str(self.year)+' '+self.make+' '+self.model\n",
    "    return long_name.title()\n",
    "  def read_odometer(self):\n",
    "    print(\"This car has \"+str(self.odometer_reading)+\" miles on it\")\n",
    "my_new_car = Car('audi','a4',2016)\n",
    "print(my_new_car.get_descriptive_name())\n",
    "my_new_car.read_odometer()  "
   ]
  },
  {
   "cell_type": "markdown",
   "id": "fce98c46",
   "metadata": {},
   "source": [
    "## 修改属性的值"
   ]
  },
  {
   "cell_type": "code",
   "execution_count": null,
   "id": "5f50713f",
   "metadata": {},
   "outputs": [],
   "source": [
    "# 直接修改属性的值\n",
    "import car\n",
    "my_new_car = Car('audi','a4',2016)\n",
    "print(my_new_car.get_descriptive_name())\n",
    "my_new_car.odometer_reading = 23\n",
    "my_new_car.read_odometer()"
   ]
  },
  {
   "cell_type": "code",
   "execution_count": null,
   "id": "e633a6ae",
   "metadata": {},
   "outputs": [],
   "source": [
    "# 通过方法修改属性的值\n",
    "class Car():\n",
    "  \"\"\"docstring for Car\"\"\"\n",
    "  def __init__(self, make,model,year):\n",
    "    self.make = make\n",
    "    self.model = model\n",
    "    self.year = year\n",
    "    self.odometer_reading = 0\n",
    "  def get_descriptive_name(self):\n",
    "    long_name = str(self.year)+' '+self.make+' '+self.model\n",
    "    return long_name.title()\n",
    "  def read_odometer(self):\n",
    "    print(\"This car has \"+str(self.odometer_reading)+\" miles on it\")\n",
    "  def update_odometer(self,mileage):\n",
    "    self.odometer_reading = mileage\n",
    "\n",
    "my_new_car = Car('audi','a4',2016)\n",
    "print(my_new_car.get_descriptive_name())\n",
    "\n",
    "my_new_car.update_odometer(23)\n",
    "my_new_car.read_odometer()\n"
   ]
  },
  {
   "cell_type": "code",
   "execution_count": null,
   "id": "34b51427",
   "metadata": {},
   "outputs": [],
   "source": [
    "# 通过方法对属性的值进行递增\n",
    "class Car():\n",
    "  \"\"\"docstring for Car\"\"\"\n",
    "  def __init__(self, make,model,year):\n",
    "    self.make = make\n",
    "    self.model = model\n",
    "    self.year = year\n",
    "    self.odometer_reading = 0\n",
    "  def get_descriptive_name(self):\n",
    "    long_name = str(self.year)+' '+self.make+' '+self.model\n",
    "    return long_name.title()\n",
    "  def read_odometer(self):\n",
    "    print(\"This car has \"+str(self.odometer_reading)+\" miles on it\")\n",
    "  def update_odometer(self,mileage):\n",
    "    self.odometer_reading = mileage\n",
    "  def increment_odometer(self,miles):\n",
    "    self.odometer_reading += miles\n",
    "\n",
    "my_used_car = Car('subaru','outback',2013)\n",
    "print(my_new_car.get_descriptive_name())\n",
    "\n",
    "my_used_car.update_odometer(23500)\n",
    "my_used_car.read_odometer()\n",
    "\n",
    "my_used_car.increment_odometer(100)\n",
    "my_used_car.read_odometer()"
   ]
  },
  {
   "cell_type": "markdown",
   "id": "535f4aa5",
   "metadata": {},
   "source": [
    "## 继承"
   ]
  },
  {
   "cell_type": "code",
   "execution_count": null,
   "id": "371b77f8",
   "metadata": {},
   "outputs": [],
   "source": [
    "# 添加子类-电动车\n",
    "import car\n",
    "class ElectricCar(Car):\n",
    "    def __init__(self,make,model,year):\n",
    "        super().__init__(make,model,year)\n",
    "my_tesla = ElectricCar('tesla','model s',2016)\n",
    "print(my_tesla.get_descriptive_name())"
   ]
  },
  {
   "cell_type": "code",
   "execution_count": null,
   "id": "0111c1f3",
   "metadata": {},
   "outputs": [],
   "source": [
    "class Car():\n",
    "    \"\"\"一次模拟汽车的简单尝试\"\"\"\n",
    "    def __init__(self, make,model,year):\n",
    "        self.make = make\n",
    "        self.model = model\n",
    "        self.year = year\n",
    "        self.odometer_reading = 0\n",
    "    def get_descriptive_name(self):\n",
    "        long_name = str(self.year)+' '+self.make+' '+self.model\n",
    "        return long_name.title()\n",
    "    def read_odometer(self):\n",
    "        print(\"This car has \"+str(self.odometer_reading)+\" miles on it\")\n",
    "    def update_odometer(self,mileage):\n",
    "        if mileage >= self.odometer_reading:\n",
    "            self.odometer_reading = mileage\n",
    "        else:\n",
    "            print(\"You can't roll back an odometer!\")\n",
    "    def increment_odometer(self,miles):\n",
    "        self.odometer_reading += miles\n",
    "\n",
    "class ElectricCar(Car):\n",
    "    \"\"\"Represent aspects of a car, specific to electric vehicles\"\"\"\n",
    "    def __init__(self, make,model,year):\n",
    "        super().__init__(make,model,year)\n",
    "        self.battery_size = 70\n",
    "    def describe_battery(self):\n",
    "        print(\"This car has a \"+str(self.battery_size)+\"-KWh battery\")\n",
    "my_tesla = ElectricCar('tesla','model s',2016)\n",
    "print(my_tesla.get_descriptive_name())\n",
    "my_tesla.describe_battery()"
   ]
  },
  {
   "cell_type": "markdown",
   "id": "38fdf6cc",
   "metadata": {},
   "source": [
    "## 导入类"
   ]
  },
  {
   "cell_type": "code",
   "execution_count": null,
   "id": "f9a05cbb",
   "metadata": {},
   "outputs": [],
   "source": [
    "from car import Car\n",
    "\n",
    "my_new_car = Car('audi','a4',2016)\n",
    "print(my_new_car.get_descriptive_name())\n",
    "\n",
    "my_new_car.odometer_reading = 23\n",
    "my_new_car.read_odometer()"
   ]
  },
  {
   "cell_type": "code",
   "execution_count": null,
   "id": "d90e5863",
   "metadata": {},
   "outputs": [],
   "source": [
    "from car2 import ElectricCar\n",
    "my_tesla = ElectricCar('tesla', 'model s', 2016)\n",
    "print(my_tesla.get_descriptive_name())\n",
    "my_tesla.battery.describe_battery()\n",
    "my_tesla.battery.get_range()"
   ]
  },
  {
   "cell_type": "code",
   "execution_count": null,
   "id": "887a2023",
   "metadata": {},
   "outputs": [],
   "source": [
    "from car2 import Car, ElectricCar\n",
    "\n",
    "my_beetle = Car('volkswagen','beetle',2016)\n",
    "print(my_beetle.get_descriptive_name())\n",
    "\n",
    "my_tesla = ElectricCar('tesla','roadster',2016)\n",
    "print(my_tesla.get_descriptive_name())"
   ]
  },
  {
   "cell_type": "code",
   "execution_count": null,
   "id": "a73e607d",
   "metadata": {},
   "outputs": [],
   "source": [
    "import car2\n",
    "my_beetle = Car('volkswagen','beetle',2016)\n",
    "print(my_beetle.get_descriptive_name())\n",
    "\n",
    "my_tesla = ElectricCar('tesla','roadster',2016)\n",
    "print(my_tesla.get_descriptive_name())"
   ]
  },
  {
   "cell_type": "code",
   "execution_count": null,
   "id": "082a00ca",
   "metadata": {},
   "outputs": [],
   "source": [
    "from collections import OrderedDict\n",
    "favorite_languages = OrderedDict()\n",
    "favorite_languages['jen'] = 'python'\n",
    "favorite_languages['sarah'] = 'c'\n",
    "favorite_languages['edward'] = 'ruby'\n",
    "favorite_languages['phil'] = 'python'\n",
    "\n",
    "for name,language in favorite_languages.items():\n",
    "    print(name.title()+\"'s favorite language is \"+language.title()+\".\")"
   ]
  }
 ],
 "metadata": {
  "kernelspec": {
   "display_name": "mask1",
   "language": "python",
   "name": "mask1"
  },
  "language_info": {
   "codemirror_mode": {
    "name": "ipython",
    "version": 3
   },
   "file_extension": ".py",
   "mimetype": "text/x-python",
   "name": "python",
   "nbconvert_exporter": "python",
   "pygments_lexer": "ipython3",
   "version": "3.8.12"
  },
  "toc": {
   "base_numbering": 1,
   "nav_menu": {},
   "number_sections": true,
   "sideBar": true,
   "skip_h1_title": false,
   "title_cell": "Table of Contents",
   "title_sidebar": "Contents",
   "toc_cell": false,
   "toc_position": {},
   "toc_section_display": true,
   "toc_window_display": false
  }
 },
 "nbformat": 4,
 "nbformat_minor": 5
}
