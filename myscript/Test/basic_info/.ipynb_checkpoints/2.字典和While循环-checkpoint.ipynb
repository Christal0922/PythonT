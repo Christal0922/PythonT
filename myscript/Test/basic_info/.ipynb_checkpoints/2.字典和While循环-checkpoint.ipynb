{
 "cells": [
  {
   "cell_type": "markdown",
   "id": "9d67a76a",
   "metadata": {},
   "source": [
    "# 字典"
   ]
  },
  {
   "cell_type": "markdown",
   "id": "3699d99d",
   "metadata": {},
   "source": [
    "## 键-值对"
   ]
  },
  {
   "cell_type": "code",
   "execution_count": null,
   "id": "773c38d8",
   "metadata": {},
   "outputs": [],
   "source": [
    "#键-值对\n",
    "alien_0 = {'color': 'green', 'points': 5}\n",
    "print(alien_0['color'])\n",
    "\n",
    "#访问键-值对\n",
    "new_points = alien_0['points']\n",
    "print(\"You just earned \"+str(new_points)+\" points!\")\n",
    "\n",
    "#添加键-值对\n",
    "alien_0['x_position'] = 0\n",
    "alien_0['y_position'] = 25\n",
    "\n"
   ]
  },
  {
   "cell_type": "code",
   "execution_count": null,
   "id": "0ae69dbc",
   "metadata": {},
   "outputs": [],
   "source": [
    "#先创建一个空字典\n",
    "alien_0={}\n",
    "alien_0['color']='green'\n",
    "alien_0['points'] = 5\n",
    "print(alien_0)\n",
    "\n",
    "#修改字典中的值\n",
    "alien_0['color'] = 'yellow'\n",
    "#删除键-值对\n",
    "del alien_0['points']\n",
    "print(alien_0)\n",
    "\n"
   ]
  },
  {
   "cell_type": "code",
   "execution_count": null,
   "id": "ebf29224",
   "metadata": {},
   "outputs": [],
   "source": [
    "#多行字典\n",
    "favorite_languages = {\n",
    "   'gen': 'python',\n",
    "    'sarah': 'C',\n",
    "    'edward': 'ruby',\n",
    "    'phil': 'python'\n",
    "}\n",
    "print(\"Sarah's favorite language is \"+\n",
    "     favorite_languages['sarah'].title()+\".\")\n",
    "for name,language in favorite_languages.items():\n",
    "    print(name.title()+\"'s favorite language is \"+language.title())\n",
    "\n",
    "#遍历字典中的所有键\n",
    "for name in favorite_languages.keys():\n",
    "    print(name.title())\n",
    "    \n",
    "#套用IF语句\n",
    "friends = ['phil', 'sarah']\n",
    "for name in favorite_languages.keys():\n",
    "    print(name.title())\n",
    "    if name in friends:\n",
    "        print(\" Hi\"+name.title()+\", I see your favorite language is \"+\n",
    "             favorite_languages[name].title()+\"!\")\n",
    "if 'erin' not in favorite_languages.keys():\n",
    "    print(\"Erin, please take our poll!\")\n",
    "\n",
    "#按顺序遍历字典中的所有键， sorted\n",
    "for name in sorted(favorite_languages.keys()):\n",
    "    print(name.title()+\", thank you for taking the poll.\")\n"
   ]
  },
  {
   "cell_type": "code",
   "execution_count": null,
   "id": "b69e7efc",
   "metadata": {},
   "outputs": [],
   "source": [
    "#遍历字典\n",
    "user_0 = {\n",
    "    'username': 'efermi',\n",
    "    'first': 'enrico',\n",
    "    'last':'fermi'\n",
    "}\n",
    "for key, value in user_0.items():\n",
    "    print(\"\\nKey: \"+key)\n",
    "    print(\"Value: \"+value)\n",
    "    "
   ]
  },
  {
   "cell_type": "code",
   "execution_count": null,
   "id": "256099e0",
   "metadata": {},
   "outputs": [],
   "source": [
    "#遍历字典中的所有值\n",
    "favorite_languages = {\n",
    "   'gen': 'python',\n",
    "    'sarah': 'C',\n",
    "    'edward': 'ruby',\n",
    "    'phil': 'python'\n",
    "}\n",
    "print(\"The following languages have been mentioned:\")\n",
    "for language in favorite_languages.values():\n",
    "    print(language.title())\n",
    "#通过对包含重复元素的列表调用set()，可让Python找出列表中独一无二的元素，并使用这些元素来创建一个集合\n",
    "print(\"\\n\")\n",
    "for language in set(favorite_languages.values()):\n",
    "    print(language.title())\n",
    "    "
   ]
  },
  {
   "cell_type": "markdown",
   "id": "b7ff57f2",
   "metadata": {},
   "source": [
    "## 字典列表"
   ]
  },
  {
   "cell_type": "code",
   "execution_count": null,
   "id": "61822d54",
   "metadata": {},
   "outputs": [],
   "source": [
    "#嵌套\n",
    "alien_0 = {'color': 'green', 'points': 5}\n",
    "alien_1 = {'color': 'yellow', 'points': 10}\n",
    "alien_2 = {'color': 'red', 'points': 15}\n",
    "aliens = [alien_0, alien_1, alien_2]\n",
    "for alien in aliens:\n",
    "    print(alien)\n",
    "\n"
   ]
  },
  {
   "cell_type": "code",
   "execution_count": null,
   "id": "53258d30",
   "metadata": {},
   "outputs": [],
   "source": [
    "#创建30个绿色的外星人\n",
    "aliens = []\n",
    "for alien_number in range(30):\n",
    "    new_alien ={'color': 'green','points':5, 'speed':'slow'}\n",
    "    aliens.append(new_alien)\n",
    "for alien in aliens[:5]:\n",
    "    print(alien)\n",
    "print(\"...\")\n",
    "print(\"Total number of aliens: \"+str(len(aliens)))\n",
    "#修改前3个外星人的信息\n",
    "for alien in aliens[0:3]:\n",
    "    if alien['color'] == 'green':\n",
    "        alien['color'] = 'yellow'\n",
    "        alien['speed'] = 'medium'\n",
    "        alien['points'] = 10\n",
    "for alien in aliens[:5]:\n",
    "    print(alien)\n",
    "print(\"...\")\n",
    "#elif\n",
    "for alien in aliens[0:3]:\n",
    "    if alien['color'] == 'green':\n",
    "        alien['color'] = 'yellow'\n",
    "        alien['speed'] = 'medium'\n",
    "        alien['points'] = 10\n",
    "    elif alien['color'] == 'yellow':\n",
    "        alien['color'] = 'red'\n",
    "        alien['speed'] = 'fast'\n",
    "        alien['points'] = 15\n",
    "for alien in aliens[:5]:\n",
    "    print(alien)\n",
    "print(\"...\")"
   ]
  },
  {
   "cell_type": "code",
   "execution_count": null,
   "id": "dc1da1b3",
   "metadata": {},
   "outputs": [],
   "source": [
    "##在字典中存储列表\n",
    "pizza = {\n",
    "    'crust': 'thick',\n",
    "    'toppings': ['mushrooms','extra cheese']\n",
    "}\n",
    "print(\"You ordered a \"+pizza['crust']+\"-crust pizza\"+\n",
    "     \"with the following toppings\")\n",
    "for topping in pizza['toppings']:\n",
    "    print(\"\\t\"+topping)\n"
   ]
  },
  {
   "cell_type": "code",
   "execution_count": null,
   "id": "5b10052e",
   "metadata": {},
   "outputs": [],
   "source": [
    "#在字典中存储字典\n",
    "users = {\n",
    "    'aeinstein': {\n",
    "        'first': 'albert',\n",
    "        'last': 'einstein',\n",
    "        'location': 'princeton',\n",
    "    },\n",
    "    'mcurie': {\n",
    "        'first': 'marie',\n",
    "        'last': 'curie',\n",
    "        'location': 'paris'\n",
    "    }\n",
    "}\n",
    "\n",
    "for username, user_info in users.items():\n",
    "    print(\"\\nUsername: \"+username)\n",
    "    full_name = user_info['first']+\" \"+user_info['last']\n",
    "    location = user_info['location']\n",
    "    \n",
    "    print(\"\\tFull name: \"+full_name.title())\n",
    "    print(\"\\tLocation: \"+location.title())"
   ]
  },
  {
   "cell_type": "markdown",
   "id": "62b907e2",
   "metadata": {},
   "source": [
    "# 用户输入和While循环"
   ]
  },
  {
   "cell_type": "markdown",
   "id": "38e12db2",
   "metadata": {},
   "source": [
    "## input()"
   ]
  },
  {
   "cell_type": "code",
   "execution_count": null,
   "id": "0fd47c86",
   "metadata": {},
   "outputs": [],
   "source": [
    "message = input(\"Tell me something, and I will repeat it back to you:\")\n",
    "print(message)"
   ]
  },
  {
   "cell_type": "code",
   "execution_count": null,
   "id": "c87cc369",
   "metadata": {},
   "outputs": [],
   "source": [
    "name = input(\"Please enter your name: \")\n",
    "print(\"Hello, \"+name+\"!\")\n",
    "\n",
    "prompt = \"If you tell us who you are, we can personalize the mesages you see.\"\n",
    "prompt += \"\\nWhat is your first name?\"\n",
    "name = input(prompt)\n",
    "print(\"\\nHello, \"+name+\"!\")"
   ]
  },
  {
   "cell_type": "code",
   "execution_count": null,
   "id": "fb30da31",
   "metadata": {},
   "outputs": [],
   "source": [
    "age = input(\"How old are you? \")\n",
    "age = int(age)\n",
    "age >= 18\n",
    "\n",
    "height = input(\"How tall are you, in inches?\")\n",
    "height = int(height)\n",
    "if height >= 36:\n",
    "    print(\"\\nYou're tall enough to ride!\")\n",
    "else:\n",
    "    print(\"\\nYou'll be able to ride when you're a little older.\")\n"
   ]
  },
  {
   "cell_type": "markdown",
   "id": "f9df1a65",
   "metadata": {},
   "source": [
    "## 求模运算符 %"
   ]
  },
  {
   "cell_type": "code",
   "execution_count": null,
   "id": "b0fc3d92",
   "metadata": {},
   "outputs": [],
   "source": [
    "# 将两个数相除并返回余数\n",
    "# 判断奇偶性\n",
    "number = input(\"Enter a number, and I'll tell you if it's even or odd: \")\n",
    "number = int(number)\n",
    "if number % 2 == 0:\n",
    "    print(\"\\nThe number\"+str(number)+\" is even.\")\n",
    "else:\n",
    "    print(\"\\nThe number\"+str(number)+\" is odd.\")\n",
    "    "
   ]
  },
  {
   "cell_type": "markdown",
   "id": "ca88932d",
   "metadata": {},
   "source": [
    "## While循环"
   ]
  },
  {
   "cell_type": "code",
   "execution_count": null,
   "id": "ef92ce12",
   "metadata": {},
   "outputs": [],
   "source": [
    "current_number = 1\n",
    "while current_number <= 5:\n",
    "    print(current_number)\n",
    "    current_number +=1\n",
    "    "
   ]
  },
  {
   "cell_type": "code",
   "execution_count": null,
   "id": "bec7864b",
   "metadata": {},
   "outputs": [],
   "source": [
    "# 让用户选择何时退出\n",
    "prompt = \"\\nTell me something, and I will repeat it back to you:\"\n",
    "prompt += \"\\nEnter 'quit' to end the program.\"\n",
    "message = \"\"\n",
    "while message != 'quit':\n",
    "    message = input(prompt)\n",
    "    print(message)\n",
    "\n",
    "#不让quit打印出来\n",
    "while message != 'quit':\n",
    "    message = input(prompt)\n",
    "    \n",
    "    if message != 'quit':\n",
    "        print(message)\n"
   ]
  },
  {
   "cell_type": "code",
   "execution_count": null,
   "id": "096ca48a",
   "metadata": {},
   "outputs": [],
   "source": [
    "#使用标志\n",
    "prompt = \"\\nTell me something, and I will repeat it back to you:\"\n",
    "prompt += \"\\nEnter 'quit' to end the program.\"\n",
    "active = True\n",
    "while active:\n",
    "    message = input(prompt)\n",
    "    \n",
    "    if message == 'quit':\n",
    "        active = False\n",
    "    else:\n",
    "        print(message)"
   ]
  },
  {
   "cell_type": "code",
   "execution_count": null,
   "id": "f402f08d",
   "metadata": {},
   "outputs": [],
   "source": [
    "# 使用break 退出循环\n",
    "prompt = \"\\nPlease enter the name of a city you have visited:\"\n",
    "prompt += \"\\n(Enter 'quit' when you are finished.) \"\n",
    "while True:\n",
    "    city = input(prompt)\n",
    "    \n",
    "    if city == 'quit':\n",
    "        break\n",
    "    else:\n",
    "        print(\"I'd love to go to \"+city.title()+\"!\")\n",
    "        "
   ]
  },
  {
   "cell_type": "code",
   "execution_count": null,
   "id": "a627fe34",
   "metadata": {},
   "outputs": [],
   "source": [
    "# 在循环中使用continue,用continue语句，\n",
    "#不像break语句那样不再执行余下的代码并退出整个循环。例如，来看一个从1数到10，但只打印其中偶数的循环：\n",
    "# 如果程序陷入无限循环，可按Ctrl + C，也可关闭显示程序输出的终端窗口\n",
    "current_number = 0\n",
    "while current_number < 10:\n",
    "    current_number +=1\n",
    "    if current_number % 2 == 0:\n",
    "        continue\n",
    "    print(current_number)"
   ]
  },
  {
   "cell_type": "markdown",
   "id": "b002a68a",
   "metadata": {},
   "source": [
    "## 使用while循环处理列表和字典"
   ]
  },
  {
   "cell_type": "code",
   "execution_count": null,
   "id": "6635767e",
   "metadata": {},
   "outputs": [],
   "source": [
    "# 在列表之间移动元素\n",
    "unconfirmed_users = ['alice','brian','candace']\n",
    "confirmed_users = []\n",
    "# 验证每个用户，直到没有未验证用户为止,将每个经过验证的列表都移到已验证用户列表中\n",
    "while unconfirmed_users:\n",
    "    current_user = unconfirmed_users.pop()\n",
    "    print(\"Verifying user: \"+current_user.title())\n",
    "    confirmed_users.append(current_user)\n",
    "# 显示所有已验证的用户\n",
    "print(\"\\nThe following users have been confirmed:\")\n",
    "for confirmed_user in confirmed_users:\n",
    "    print(confirmed_user.title())"
   ]
  },
  {
   "cell_type": "code",
   "execution_count": null,
   "id": "55a9319b",
   "metadata": {},
   "outputs": [],
   "source": [
    "# 删除包含特定值的所有列表元素\n",
    "pets = ['dog', 'cat', 'dog', 'goldfish', 'cat', 'rabbit', 'cat']\n",
    "print(pets)\n",
    "while 'cat' in pets:\n",
    "    pets.remove('cat')\n",
    "print(pets)"
   ]
  },
  {
   "cell_type": "code",
   "execution_count": null,
   "id": "53d15028",
   "metadata": {},
   "outputs": [],
   "source": [
    "#使用用户输入来填充字典\n",
    "responses = {}\n",
    "polling_active = True\n",
    "\n",
    "while polling_active:\n",
    "    name = input(\"\\nWhat is your name? \")\n",
    "    response = input(\"Which mountain would you like to climb?\")\n",
    "    \n",
    "    responses[name]=response\n",
    "    \n",
    "    repeat = input(\"Would you like to let another person respond? (yes/ no) \")\n",
    "    if repeat == 'no':\n",
    "        polling_active = False\n",
    "\n",
    "#调查结束，显示结果\n",
    "print(\"\\n--- Poll Results ---\")\n",
    "for name, response in responses.items():\n",
    "    print(name+\" would like to climb \"+response+\".\")"
   ]
  }
 ],
 "metadata": {
  "kernelspec": {
   "display_name": "mask1",
   "language": "python",
   "name": "mask1"
  },
  "language_info": {
   "codemirror_mode": {
    "name": "ipython",
    "version": 3
   },
   "file_extension": ".py",
   "mimetype": "text/x-python",
   "name": "python",
   "nbconvert_exporter": "python",
   "pygments_lexer": "ipython3",
   "version": "3.8.12"
  },
  "toc": {
   "base_numbering": 1,
   "nav_menu": {},
   "number_sections": true,
   "sideBar": true,
   "skip_h1_title": false,
   "title_cell": "Table of Contents",
   "title_sidebar": "Contents",
   "toc_cell": false,
   "toc_position": {},
   "toc_section_display": true,
   "toc_window_display": false
  }
 },
 "nbformat": 4,
 "nbformat_minor": 5
}
