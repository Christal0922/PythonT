{
 "cells": [
  {
   "cell_type": "markdown",
   "id": "ab6ab5b8",
   "metadata": {},
   "source": [
    "# 文件"
   ]
  },
  {
   "cell_type": "markdown",
   "id": "3804082d",
   "metadata": {},
   "source": [
    "## 读取文件"
   ]
  },
  {
   "cell_type": "code",
   "execution_count": null,
   "id": "8cb9f808",
   "metadata": {},
   "outputs": [],
   "source": [
    "with open('pi_digits.txt') as file_object:\n",
    "    contents = file_object.read()\n",
    "    print(contents)\n",
    "\n",
    "    #消除空行\n",
    "    print(contents.rstrip())"
   ]
  },
  {
   "cell_type": "code",
   "execution_count": null,
   "id": "86e95b38",
   "metadata": {},
   "outputs": [],
   "source": [
    "# file path\n",
    "file_path = 'E:\\PythonT\\myscript\\Test\\ehmatthes\\chapter_10\\pi_digits.txt'\n",
    "with open(file_path) as file_object:\n",
    "    contents = file_object.read()\n",
    "    print(contents.rstrip())"
   ]
  },
  {
   "cell_type": "code",
   "execution_count": null,
   "id": "77b0c1c0",
   "metadata": {},
   "outputs": [],
   "source": [
    "with open('ehmatthes\\chapter_10\\pi_digits.txt') as file_object:\n",
    "    contents = file_object.read()\n",
    "    print(contents.rstrip())"
   ]
  },
  {
   "cell_type": "code",
   "execution_count": null,
   "id": "aa1de663",
   "metadata": {
    "scrolled": true
   },
   "outputs": [],
   "source": [
    "# 逐行读取\n",
    "filename = 'pi_digits.txt'\n",
    "with open(filename) as file_object:\n",
    "    for line in file_object:\n",
    "        print(line.rstrip())\n",
    "        "
   ]
  },
  {
   "cell_type": "code",
   "execution_count": null,
   "id": "59459db0",
   "metadata": {},
   "outputs": [],
   "source": [
    "# 创建一个包含文件各行内容的列表\n",
    "filename = 'pi_digits.txt'\n",
    "with open(filename) as file_object:\n",
    "    lines = file_object.readlines()\n",
    "for line in lines:\n",
    "    print(line.rstrip())\n",
    "print(lines)"
   ]
  },
  {
   "cell_type": "code",
   "execution_count": null,
   "id": "c1055040",
   "metadata": {},
   "outputs": [],
   "source": [
    "# 使用文件的内容\n",
    "filename = 'pi_digits.txt'\n",
    "with open(filename) as file_object:\n",
    "    lines = file_object.readlines()\n",
    "pi_string = ''\n",
    "for line in lines:\n",
    "    pi_string += line.strip()\n",
    "print(pi_string)\n",
    "print(len(pi_string))"
   ]
  },
  {
   "cell_type": "code",
   "execution_count": null,
   "id": "0311fc00",
   "metadata": {},
   "outputs": [],
   "source": [
    "# 包含一百万位的大型文件\n",
    "file_path='ehmatthes\\chapter_10\\pi_million_digits.txt'\n",
    "with open(file_path) as file_object:\n",
    "    lines = file_object.readlines()\n",
    "pi_string = ''\n",
    "for line in lines:\n",
    "    pi_string += line.strip()\n",
    "print(pi_string[:52]+\"...\")\n",
    "print(len(pi_string))\n"
   ]
  },
  {
   "cell_type": "code",
   "execution_count": null,
   "id": "f9fbbe19",
   "metadata": {},
   "outputs": [],
   "source": [
    "# 圆周率中有你的生日吗？\n",
    "birthday = input(\"Enter your birthday, in the form mmddyy: \")\n",
    "if birthday in pi_string:\n",
    "    print(\"Your birthday appears in the first million digits of pi！\")\n",
    "else:\n",
    "    print(\"Your birthday does not appear in the first million digits of pi.\")"
   ]
  },
  {
   "cell_type": "markdown",
   "id": "480cec32",
   "metadata": {},
   "source": [
    "## 写入文件"
   ]
  },
  {
   "cell_type": "code",
   "execution_count": null,
   "id": "222d4844",
   "metadata": {},
   "outputs": [],
   "source": [
    "# ，调用open()时提供了两个实参（见Ø）。第一个实参也是要打开的文件的名称；\n",
    "# 第二个实参（'w'）告诉Python，我们要以写入模式打开这个文件。打开文件时，可指定读取模\n",
    "# 式（'r'）、写入模式（'w'）、附加模式（'a'）或让你能够读取和写入文件的模式（'r+'）\n",
    "filename = 'programming.txt'\n",
    "with open(filename,'w') as file_object:\n",
    "    file_object.write(\"I love programming.\")\n"
   ]
  },
  {
   "cell_type": "code",
   "execution_count": null,
   "id": "6dae0ac8",
   "metadata": {},
   "outputs": [],
   "source": [
    "# 写入多行\n",
    "filename = 'programming.txt'\n",
    "with open(filename,'w') as file_object:\n",
    "    file_object.write(\"I love programming.\\n\")\n",
    "    file_object.write(\"I love creating new games.\\n\")"
   ]
  },
  {
   "cell_type": "code",
   "execution_count": null,
   "id": "337c5af9",
   "metadata": {},
   "outputs": [],
   "source": [
    "# 附加到文件\n",
    "filename = 'programming.txt'\n",
    "with open(filename,'a') as file_object:\n",
    "    file_object.write(\"I also love finding meaning in large datasets.\\n\")\n",
    "    file_object.write(\"I love creating apps that can run in a brower.\\n\")\n",
    "    "
   ]
  },
  {
   "cell_type": "markdown",
   "id": "1df6dc43",
   "metadata": {},
   "source": [
    "# 异常"
   ]
  },
  {
   "cell_type": "markdown",
   "id": "b7a39c0e",
   "metadata": {},
   "source": [
    "## try-except模块"
   ]
  },
  {
   "cell_type": "code",
   "execution_count": null,
   "id": "1b61550b",
   "metadata": {},
   "outputs": [],
   "source": [
    "# ZeroDivisionError\n",
    "# 如果try代码块中的代码运行起来没有问题，Python将跳过except代码块；如果try代码块中的代码导致了错误，Python将查找\n",
    "# 这样的except代码块，并运行其中的代码，即其中指定的错误与引发的错误相同\n",
    "try:\n",
    "    print(5/0)\n",
    "except ZeroDivisionError:\n",
    "    print(\"You can't divide by zero!\")"
   ]
  },
  {
   "cell_type": "code",
   "execution_count": null,
   "id": "5a407a88",
   "metadata": {},
   "outputs": [],
   "source": [
    "# FileNotFoundError\n",
    "# 字符串前面加r，禁止字符串转义\n",
    "try:\n",
    "    with open(r'ehmatthes\\chapter_10\\alice.txt','rb') as file_object:\n",
    "        contents = file_object.read()\n",
    "except FileNotFoundError:\n",
    "    message = \"Sorry, the file does not exist. \"\n",
    "    print(message)\n",
    "else:\n",
    "    words = contents.split()\n",
    "    num_words = len(words)\n",
    "    print(\"The file has about \"+str(num_words)+\" words.\")"
   ]
  },
  {
   "cell_type": "code",
   "execution_count": null,
   "id": "d20e6848",
   "metadata": {},
   "outputs": [],
   "source": [
    "def count_words(filename):\n",
    "    \"\"\"计算一个文件大致包含多少个单词\"\"\"\n",
    "    try:\n",
    "        with open(filename,encoding='UTF-8') as f_obj:\n",
    "            contents = f_obj.read()\n",
    "    except FileNotFoundError:\n",
    "        print(\"Sorry, the file does not exist\")\n",
    "    else:\n",
    "        # 计算文件大致包含多少个单词\n",
    "        words = contents.split()\n",
    "        num_words = len(words)\n",
    "        print(\"The file has about \"+str(num_words)+\"words.\")\n",
    "filename = r'ehmatthes\\chapter_10\\alice.txt'\n",
    "count_words(filename)\n",
    "\n",
    "# 计算循环\n",
    "filenames = [r'ehmatthes\\chapter_10\\alice.txt',\n",
    "             r'ehmatthes\\chapter_10\\siddhartha.txt',\n",
    "             r'ehmatthes\\chapter_10\\moby_dick.txt',\n",
    "            r'ehmatthes\\chapter_10\\little_women.txt']\n",
    "for filename in filenames:\n",
    "    count_words(filename)"
   ]
  },
  {
   "cell_type": "markdown",
   "id": "973e369f",
   "metadata": {},
   "source": [
    "# 存储数据"
   ]
  },
  {
   "cell_type": "markdown",
   "id": "517c6d5f",
   "metadata": {},
   "source": [
    "## json.dump()"
   ]
  },
  {
   "cell_type": "code",
   "execution_count": null,
   "id": "bab4a845",
   "metadata": {},
   "outputs": [],
   "source": [
    "import json\n",
    "numbers = [2,3,5,7,11,13]\n",
    "filename = 'numbers.json'\n",
    "with open(filename,'w') as f_obj:\n",
    "    json.dump(numbers,f_obj)"
   ]
  },
  {
   "cell_type": "code",
   "execution_count": null,
   "id": "03d818e8",
   "metadata": {},
   "outputs": [],
   "source": [
    "import json\n",
    "filename = 'numbers.json'\n",
    "with open(filename) as f_obj:\n",
    "    numbers = json.load(f_obj)\n",
    "print(numbers)"
   ]
  },
  {
   "cell_type": "markdown",
   "id": "18d61388",
   "metadata": {},
   "source": [
    "## 保存和读取用户生成的数据"
   ]
  },
  {
   "cell_type": "code",
   "execution_count": null,
   "id": "d2106bfd",
   "metadata": {},
   "outputs": [],
   "source": [
    "# remember_me.py\n",
    "import json\n",
    "username = input(\"What's your name? \")\n",
    "filename = 'username.json'\n",
    "with open(filename,'w') as f_obj:\n",
    "    json.dump(username,f_obj)\n",
    "    print(\"We'll remmeber you wehn you come back, \"+\n",
    "         username+\"!\")"
   ]
  },
  {
   "cell_type": "code",
   "execution_count": null,
   "id": "95b17df7",
   "metadata": {},
   "outputs": [],
   "source": [
    "# greet_user.py\n",
    "import json\n",
    "filename = 'username.json'\n",
    "with open(filename) as f_obj:\n",
    "    username = json.load(f_obj)\n",
    "    print(\"Welcome back, \"+username+\"!\")"
   ]
  },
  {
   "cell_type": "code",
   "execution_count": null,
   "id": "e3e24073",
   "metadata": {},
   "outputs": [],
   "source": [
    "import json\n",
    "# 如果以前存储了用户名，就加载它\n",
    "# 否则，就提示用户输入用户名并存储它\n",
    "filename = 'username.json'\n",
    "try:\n",
    "    with open(filename) as f_obj:\n",
    "        username = json.load(f_obj)\n",
    "except FileNotFoundError:\n",
    "    username = input(\"What is your name? \")\n",
    "    with open(filename,'w') as f_obj:\n",
    "        json.dump(username,f_obj)\n",
    "        print(\"We'll remember you when you come back!\")\n",
    "else:\n",
    "    print(\"Welcome back, \"+username+\"!\")"
   ]
  },
  {
   "cell_type": "code",
   "execution_count": null,
   "id": "f3874565",
   "metadata": {},
   "outputs": [],
   "source": [
    "import json\n",
    "# 如果以前存储了用户名，就加载它\n",
    "# 否则，就提示用户输入用户名并存储它\n",
    "def greet_user():\n",
    "    \"\"\"问候用户，并指出其名字\"\"\"\n",
    "    try:\n",
    "        with open(filename) as f_obj:\n",
    "            username = json.load(f_obj)\n",
    "    except FileNotFoundError:\n",
    "        username = input(\"What is your name? \")\n",
    "        with open(filename,'w') as f_obj:\n",
    "            json.dump(username,f_obj)\n",
    "            print(\"We'll remember you when you come back!\")\n",
    "    else:\n",
    "        print(\"Welcome back, \"+username+\"!\")\n",
    "greet_user()"
   ]
  },
  {
   "cell_type": "code",
   "execution_count": null,
   "id": "5aa2046e",
   "metadata": {},
   "outputs": [],
   "source": [
    "import json\n",
    "# 如果以前存储了用户名，就加载它\n",
    "# 否则，就提示用户输入用户名并存储它\n",
    "def get_stored_username():\n",
    "    \"\"\"如果用户存储了用户名，就获取它\"\"\"\n",
    "    filename = 'username.json'\n",
    "    try:\n",
    "        with open(filename) as f_obj:\n",
    "            username = json.load(f_obj)\n",
    "    except FileNotFoundError:\n",
    "        return None \n",
    "    else:\n",
    "        return username\n",
    "\n",
    "def get_new_username():\n",
    "    \"\"\"提示用户输入用户名\"\"\"\n",
    "    username = input(\"What's your name? \")\n",
    "    filename = 'username.json'\n",
    "    with open(filename,'w') as f_obj:\n",
    "        json.dump(username,f_obj)\n",
    "    return username\n",
    "\n",
    "\n",
    "def greet_user():\n",
    "    \"\"\"问候用户，并指出其名字\"\"\"\n",
    "    username = get_stored_username()\n",
    "    if username:\n",
    "        print(\"Welcome back, \"+username+\"!\")\n",
    "    else:\n",
    "        username = get_new_username()\n",
    "        print(\"We'll remember you when you come back!\")\n",
    "greet_user()\n"
   ]
  },
  {
   "cell_type": "markdown",
   "id": "4447cee7",
   "metadata": {},
   "source": [
    "# 测试代码"
   ]
  },
  {
   "cell_type": "markdown",
   "id": "9100ec6f",
   "metadata": {},
   "source": [
    "## 测试函数"
   ]
  },
  {
   "cell_type": "code",
   "execution_count": null,
   "id": "503c8aeb",
   "metadata": {},
   "outputs": [],
   "source": [
    "import unittest\n",
    "from name_function import get_formatted_name\n",
    "class NamesTestCase(unittest.TestCase):\n",
    "    \"\"\"测试name_function.py\"\"\"\n",
    "    def test_first_last_name(self):\n",
    "        \"\"\"能够正确地处理像Janis Joplin这样的姓名吗？\"\"\"\n",
    "        formatted_name = get_formatted_name('janis', 'joplin')\n",
    "        self.assertEqual(formatted_name, 'Janis Joplin')\n",
    "\n",
    "suite = unittest.TestSuite()\n",
    "runner = unittest.TextTestRunner(verbosity=2)\n",
    "if __name__ == '__main__':\n",
    "    runner.run(suite)\n"
   ]
  },
  {
   "cell_type": "code",
   "execution_count": null,
   "id": "d33eac96",
   "metadata": {
    "scrolled": true
   },
   "outputs": [],
   "source": [
    "class AnonymousSurvey():\n",
    "    \"\"\"收集匿名调查问卷的答案\"\"\"\n",
    "    def __init__(self, question):\n",
    "        \"\"\"存储一个问题，并为存储答案做准备\"\"\"\n",
    "        self.question = question\n",
    "        self.responses = []\n",
    "    def show_question(self):\n",
    "        \"\"\"显示调查问卷\"\"\"\n",
    "        print(self.question)\n",
    "    def store_response(self, new_response):\n",
    "        \"\"\"存储单份调查答卷\"\"\"\n",
    "        self.responses.append(new_response)\n",
    "    def show_results(self):\n",
    "        \"\"\"显示收集到的所有答案\"\"\"\n",
    "        print(\"Survey results: \")\n",
    "        for response in self.responses:\n",
    "            print('- '+response)\n",
    "question = \"What language did you first learn to speak?\"\n",
    "my_survey = AnonymousSurvey(question)\n",
    "# 显示问题并存储答案\n",
    "my_survey.show_question()\n",
    "while True:\n",
    "    response = input(\"Language: \")\n",
    "    if response == 'q':\n",
    "        break\n",
    "    my_survey.store_response(response)\n",
    "# 显示调查结果\n",
    "print(\"\\nThank you to everyone who participated in the survey!\")\n",
    "my_survey.show_results()"
   ]
  }
 ],
 "metadata": {
  "kernelspec": {
   "display_name": "Python [conda env:mask1]",
   "language": "python",
   "name": "conda-env-mask1-py"
  },
  "language_info": {
   "codemirror_mode": {
    "name": "ipython",
    "version": 3
   },
   "file_extension": ".py",
   "mimetype": "text/x-python",
   "name": "python",
   "nbconvert_exporter": "python",
   "pygments_lexer": "ipython3",
   "version": "3.8.12"
  },
  "toc": {
   "base_numbering": 1,
   "nav_menu": {},
   "number_sections": true,
   "sideBar": true,
   "skip_h1_title": false,
   "title_cell": "Table of Contents",
   "title_sidebar": "Contents",
   "toc_cell": false,
   "toc_position": {},
   "toc_section_display": true,
   "toc_window_display": false
  }
 },
 "nbformat": 4,
 "nbformat_minor": 5
}
