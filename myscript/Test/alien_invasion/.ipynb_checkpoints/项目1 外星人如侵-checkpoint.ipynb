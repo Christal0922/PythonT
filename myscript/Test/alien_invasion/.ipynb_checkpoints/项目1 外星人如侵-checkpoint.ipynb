{
 "cells": [
  {
   "cell_type": "markdown",
   "id": "45fbef2a",
   "metadata": {},
   "source": [
    "# 武装飞船"
   ]
  },
  {
   "cell_type": "markdown",
   "id": "f8311d62",
   "metadata": {},
   "source": [
    "## "
   ]
  },
  {
   "cell_type": "code",
   "execution_count": null,
   "id": "76d13650",
   "metadata": {},
   "outputs": [],
   "source": [
    "import sys\n",
    "import pygame\n",
    "def run_game():\n",
    "    # 初始化游戏并创建一个屏幕对象\n",
    "    pygame.init()\n",
    "    screen = pygame.display.set_mode((1200,800))\n",
    "    pygame.display.set_caption(\"Alien Invasion\")\n",
    "    #开始游戏的主循环\n",
    "    while True:\n",
    "        # 监视键盘和鼠标事件\n",
    "        for event in pygame.event.get():\n",
    "            if event.type == pygame.QUIT:\n",
    "                sys.exit()\n",
    "        # 让最近绘制的屏幕可见\n",
    "        pygame.display.flip()\n",
    "run_game()"
   ]
  }
 ],
 "metadata": {
  "kernelspec": {
   "display_name": "mask1",
   "language": "python",
   "name": "mask1"
  },
  "language_info": {
   "codemirror_mode": {
    "name": "ipython",
    "version": 3
   },
   "file_extension": ".py",
   "mimetype": "text/x-python",
   "name": "python",
   "nbconvert_exporter": "python",
   "pygments_lexer": "ipython3",
   "version": "3.8.12"
  },
  "toc": {
   "base_numbering": 1,
   "nav_menu": {},
   "number_sections": true,
   "sideBar": true,
   "skip_h1_title": false,
   "title_cell": "Table of Contents",
   "title_sidebar": "Contents",
   "toc_cell": false,
   "toc_position": {},
   "toc_section_display": true,
   "toc_window_display": false
  }
 },
 "nbformat": 4,
 "nbformat_minor": 5
}
