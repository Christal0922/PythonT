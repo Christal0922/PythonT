{
 "cells": [
  {
   "cell_type": "markdown",
   "id": "81e5f3a6",
   "metadata": {},
   "source": [
    "# for循环"
   ]
  },
  {
   "cell_type": "markdown",
   "id": "8a73ff41",
   "metadata": {},
   "source": [
    "## 寻找水仙花数"
   ]
  },
  {
   "cell_type": "code",
   "execution_count": null,
   "id": "b1408869",
   "metadata": {},
   "outputs": [],
   "source": [
    "# 计算水仙花数\n",
    "# 153=1*1*1+5*5*5+3*3*3\n",
    "\n",
    "for i in range(100,1000):\n",
    "    a = i%10  # 个位数\n",
    "    b = i//10%10  # 十位数\n",
    "    c = i//100  # 百位数\n",
    "    if a*a*a+b*b*b+c*c*c == i:\n",
    "        print(i)"
   ]
  },
  {
   "cell_type": "markdown",
   "id": "448fb838",
   "metadata": {},
   "source": [
    "## 输出三行四列的长方形"
   ]
  },
  {
   "cell_type": "code",
   "execution_count": null,
   "id": "0f792fea",
   "metadata": {},
   "outputs": [],
   "source": [
    "# 输出一个三行四列的长方形\n",
    "for i in range(1,4):\n",
    "    for j in range(1,5):\n",
    "        print('*', end='')\n",
    "    print()"
   ]
  },
  {
   "cell_type": "code",
   "execution_count": null,
   "id": "fad22793",
   "metadata": {},
   "outputs": [],
   "source": [
    "# 输出一个直角三角形\n",
    "for i in range(1, 6):\n",
    "    for j in range(1, i+1):  # *的个数与行数相同\n",
    "        print('*', end='')\n",
    "    print()"
   ]
  },
  {
   "cell_type": "code",
   "execution_count": null,
   "id": "a4f2ea01",
   "metadata": {},
   "outputs": [],
   "source": [
    "# 输出一个倒直角三角形\n",
    "for i in range(1, 6):\n",
    "    for j in range(1, 7-i):  # *的个数与行数相同\n",
    "        print('*', end='')\n",
    "    print()"
   ]
  },
  {
   "cell_type": "code",
   "execution_count": null,
   "id": "74029489",
   "metadata": {},
   "outputs": [],
   "source": [
    "# 输出一个等腰三角形\n",
    "for i in range(1, 6):\n",
    "    # 输出一个倒直角三角形\n",
    "    for j in range(1, 6-i):  # *的个数与行数相同\n",
    "        print(' ', end='')\n",
    "    for k in range(1,2*i):\n",
    "        print('*', end='')\n",
    "    print()"
   ]
  },
  {
   "cell_type": "code",
   "execution_count": null,
   "id": "70046e2a",
   "metadata": {},
   "outputs": [],
   "source": [
    "# 输出一个菱形\n",
    "r = eval(input(\"请输入菱形的行数：\"))\n",
    "top_r = r//2+1\n",
    "# 上三角\n",
    "for i in range(1, top_r+1):\n",
    "    # 输出一个倒直角三角形\n",
    "    for j in range(1, top_r+1-i):  # *的个数与行数相同\n",
    "        print(' ', end='')\n",
    "    # 输出*\n",
    "    for k in range(1,2*i):\n",
    "        print('*', end='')\n",
    "    print()\n",
    "# 下三角\n",
    "bottom_r = r//2\n",
    "for i in range(1, bottom_r+1):\n",
    "    # 输出一个正直角\n",
    "    for j in range(1, i+1):\n",
    "        print(' ', end='')\n",
    "    # 输出*\n",
    "    for k in range(1, 2*(bottom_r-i+1)):\n",
    "        print('*', end='')\n",
    "    print()\n"
   ]
  },
  {
   "cell_type": "code",
   "execution_count": null,
   "id": "24d8ba34",
   "metadata": {},
   "outputs": [],
   "source": [
    "# 输出一个空心菱形\n",
    "r = eval(input(\"请输入菱形的行数：\"))\n",
    "top_r = r//2+1\n",
    "# 上三角\n",
    "for i in range(1, top_r+1):\n",
    "     # 输出一个倒直角三角形\n",
    "    for j in range(1, top_r+1-i):  # *的个数与行数相同\n",
    "        print(' ', end='')\n",
    "    for k in range(1,2*i):\n",
    "        if k == 1 or k == 2*i-1:\n",
    "            print('*', end='')\n",
    "        else:\n",
    "            print(' ', end='')\n",
    "    print()\n",
    "# 下三角\n",
    "bottom_r = r//2\n",
    "for i in range(1, bottom_r+1):\n",
    "    # 输出一个正直角\n",
    "    for j in range(1, i+1):\n",
    "        print(' ', end='')\n",
    "    for k in range(1, 2*(bottom_r-i+1)):\n",
    "        if k==1 or k==2*(bottom_r-i+1)-1:\n",
    "            print('*', end='')\n",
    "        else:\n",
    "            print(' ', end='')\n",
    "    print()\n"
   ]
  },
  {
   "cell_type": "markdown",
   "id": "961e0f6c",
   "metadata": {},
   "source": [
    "# while循环"
   ]
  },
  {
   "cell_type": "markdown",
   "id": "1e41766c",
   "metadata": {},
   "source": [
    "## 步骤"
   ]
  },
  {
   "cell_type": "code",
   "execution_count": null,
   "id": "3d253ac6",
   "metadata": {},
   "outputs": [],
   "source": [
    "# 1. 初始化变量\n",
    "answer = input('今天要上课吗？y/n')\n",
    "while answer == 'y':\n",
    "    print('好好学习，天天向上')"
   ]
  },
  {
   "cell_type": "markdown",
   "id": "84ec6242",
   "metadata": {},
   "source": [
    "## 计算1-100的累加和"
   ]
  },
  {
   "cell_type": "code",
   "execution_count": null,
   "id": "871cecd2",
   "metadata": {},
   "outputs": [],
   "source": [
    "s=0\n",
    "i=1  #1.初始化变量\n",
    "while i<=100:  #2. 条件判断\n",
    "    s+=i  #3. 语句块\n",
    "    i+=1  #4. 改变变量\n",
    "print('1-100的累加和是: ',s)"
   ]
  },
  {
   "cell_type": "markdown",
   "id": "ba4f2328",
   "metadata": {},
   "source": [
    "## 实现模拟登录"
   ]
  },
  {
   "cell_type": "markdown",
   "id": "f91498fd",
   "metadata": {},
   "source": [
    "# break， 跳出循环"
   ]
  },
  {
   "cell_type": "markdown",
   "id": "5812d678",
   "metadata": {},
   "source": [
    "> 与if联用，break是跳出循环"
   ]
  },
  {
   "cell_type": "markdown",
   "id": "258449ee",
   "metadata": {},
   "source": [
    "## 累加和>20"
   ]
  },
  {
   "cell_type": "code",
   "execution_count": null,
   "id": "9eed3846",
   "metadata": {},
   "outputs": [],
   "source": [
    "# 输出累加和>20时的值\n",
    "s=0\n",
    "i=1\n",
    "while i<11:\n",
    "    s+=i\n",
    "    if s>20:\n",
    "        print('累加和大于20的当前数：', i)\n",
    "        break\n",
    "    i+=1\n"
   ]
  },
  {
   "cell_type": "markdown",
   "id": "bf32e27e",
   "metadata": {},
   "source": [
    "## 用户登录"
   ]
  },
  {
   "cell_type": "code",
   "execution_count": null,
   "id": "5dbec778",
   "metadata": {},
   "outputs": [],
   "source": [
    "i=1\n",
    "while i<=3:\n",
    "    user_name = input('请输入您的用户名：')\n",
    "    pwd = input('请输入您的密码：')\n",
    "    if user_name == 'gqq' and pwd == '888888':\n",
    "        print('登录成功')\n",
    "        break\n",
    "    elif i==3:\n",
    "        print('您的3次机会已用完，用户名已锁定')\n",
    "        break\n",
    "    else:\n",
    "        i+=1\n",
    "        print('用户名或密码不正确,您还有',4-i,'次机会')\n"
   ]
  },
  {
   "cell_type": "code",
   "execution_count": null,
   "id": "cef01438",
   "metadata": {},
   "outputs": [],
   "source": [
    "for i in range(1,4):\n",
    "    user_name = input('请输入您的用户名：')\n",
    "    pwd = input('请输入您的密码：')\n",
    "    if user_name == 'gqq' and pwd == '888888':\n",
    "        print('登录成功')\n",
    "        break\n",
    "    elif i<3:\n",
    "        print('用户名或密码不正确,您还有',3-i,'次机会')\n",
    "    else:\n",
    "        print('您的3次机会已用完，用户名已锁定')"
   ]
  },
  {
   "cell_type": "code",
   "execution_count": null,
   "id": "ab1876ed",
   "metadata": {},
   "outputs": [],
   "source": [
    "for i in 'hello':\n",
    "    if i == 'o':\n",
    "        break\n",
    "    print(i)"
   ]
  },
  {
   "cell_type": "markdown",
   "id": "d77f3856",
   "metadata": {},
   "source": [
    "# continue语句，跳出本次循环"
   ]
  },
  {
   "cell_type": "markdown",
   "id": "7d474862",
   "metadata": {},
   "source": [
    "## 计算0-100间偶数和"
   ]
  },
  {
   "cell_type": "code",
   "execution_count": null,
   "id": "b956bbe9",
   "metadata": {},
   "outputs": [],
   "source": [
    "s=0\n",
    "i=1\n",
    "while i<=100:\n",
    "    if i%2:\n",
    "        i+=1\n",
    "        continue\n",
    "    else:\n",
    "        s+=i\n",
    "    i+=1\n",
    "print('1-100之间的偶数和为：', s)"
   ]
  },
  {
   "cell_type": "code",
   "execution_count": null,
   "id": "164f212c",
   "metadata": {},
   "outputs": [],
   "source": [
    "s=0\n",
    "for i in range(1,101):\n",
    "    if i%2:\n",
    "        continue\n",
    "    else:\n",
    "        s+=i\n",
    "print('1-100之间的偶数和为：', s)"
   ]
  },
  {
   "cell_type": "markdown",
   "id": "0a01b5cf",
   "metadata": {},
   "source": [
    "# Pass语句，占位"
   ]
  },
  {
   "cell_type": "markdown",
   "id": "1202c683",
   "metadata": {},
   "source": [
    "# 练习"
   ]
  },
  {
   "cell_type": "markdown",
   "id": "c654b68e",
   "metadata": {},
   "source": [
    "## 判断是否为闰年"
   ]
  },
  {
   "cell_type": "code",
   "execution_count": null,
   "id": "28280104",
   "metadata": {},
   "outputs": [],
   "source": [
    "# 输入一个年份，判断是否为闰年，判断条件为能被4整除但不能为100整除，或者能被400整除\n",
    "year=eval(input('please input year: '))\n",
    "if (year%4==0 and year%100!=0) or year%400==0:\n",
    "    print(str(year), '年是闰年')\n",
    "else:\n",
    "    print(str(year), '年是平年' )"
   ]
  },
  {
   "cell_type": "markdown",
   "id": "5f4d1e8a",
   "metadata": {},
   "source": [
    "## 模拟10086查询功能"
   ]
  },
  {
   "cell_type": "code",
   "execution_count": null,
   "id": "20b4c746",
   "metadata": {},
   "outputs": [],
   "source": [
    "print('--------欢迎使用10086查询功能-----------')\n",
    "text = '1. 查询当前余额\\n2. 查询剩余流量\\n3. 查询当前剩余通话时长\\n0. 退出系统'\n",
    "print(text)\n",
    "answer = 'y'\n",
    "# while True:\n",
    "while answer == 'y':\n",
    "    N = input(\"请输入您要执行的操作：\")\n",
    "    if N == '1':\n",
    "        print('当前余额为234.5元')\n",
    "    elif N == '2':\n",
    "        print('当前剩余流量为4GB')\n",
    "    elif N == '3':\n",
    "        print('当前剩余通话时长为200分钟')\n",
    "    elif N == '0':\n",
    "        print('程序退出，谢谢您的使用')\n",
    "        break\n",
    "    else:\n",
    "        print('对不起，您的输入有误,请重新输入')\n",
    "    answer=input('还有继续操作吗？y/n')\n",
    "print('程序退出，谢谢您的使用')"
   ]
  },
  {
   "cell_type": "markdown",
   "id": "6d06367f",
   "metadata": {},
   "source": [
    "## 使用嵌套循环输出九九乘法表"
   ]
  },
  {
   "cell_type": "code",
   "execution_count": null,
   "id": "b13f8d22",
   "metadata": {},
   "outputs": [],
   "source": [
    "for i in range(1,10):\n",
    "    for j in range(1,i+1):\n",
    "        print(str(j)+'*'+str(i)+'='+str(j*i),end='\\t')\n",
    "    print()\n",
    "\n",
    "            "
   ]
  },
  {
   "cell_type": "markdown",
   "id": "25ba6b2d",
   "metadata": {},
   "source": [
    "## 猜数游戏\n",
    "随机生成1-100之间的整数，然后用户猜这个数，对于用户的输入可提示“大了”，“小了”，知道准确猜出，输出用户的猜测次数"
   ]
  },
  {
   "cell_type": "code",
   "execution_count": null,
   "id": "824ff52d",
   "metadata": {},
   "outputs": [],
   "source": [
    "import random\n",
    "N = random.randint(1,100)\n",
    "i=1\n",
    "while i<=10:\n",
    "    predict=eval(input('在我心中有个数，1-100之间，请你猜一猜：'))\n",
    "    if predict>N:\n",
    "        print(\"大了\")\n",
    "    elif predict<N:\n",
    "        print(\"小了\")\n",
    "    else:\n",
    "        print('猜对了')\n",
    "        break\n",
    "    i+=1\n",
    "print('猜的次数有点多啊，长点心吧，一共猜了',str(i),'次')"
   ]
  }
 ],
 "metadata": {
  "kernelspec": {
   "display_name": "Python [conda env:mask1]",
   "language": "python",
   "name": "conda-env-mask1-py"
  },
  "language_info": {
   "codemirror_mode": {
    "name": "ipython",
    "version": 3
   },
   "file_extension": ".py",
   "mimetype": "text/x-python",
   "name": "python",
   "nbconvert_exporter": "python",
   "pygments_lexer": "ipython3",
   "version": "3.8.12"
  },
  "toc": {
   "base_numbering": 1,
   "nav_menu": {},
   "number_sections": true,
   "sideBar": true,
   "skip_h1_title": false,
   "title_cell": "Table of Contents",
   "title_sidebar": "Contents",
   "toc_cell": false,
   "toc_position": {},
   "toc_section_display": true,
   "toc_window_display": false
  }
 },
 "nbformat": 4,
 "nbformat_minor": 5
}
