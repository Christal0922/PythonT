{
 "cells": [
  {
   "cell_type": "code",
   "execution_count": 1,
   "id": "8885cfb9",
   "metadata": {},
   "outputs": [
    {
     "name": "stdout",
     "output_type": "stream",
     "text": [
      "Hello Python world\n"
     ]
    }
   ],
   "source": [
    "#print的应用\n",
    "print(\"Hello Python world\")"
   ]
  },
  {
   "cell_type": "code",
   "execution_count": 4,
   "id": "824a69c7",
   "metadata": {},
   "outputs": [
    {
     "name": "stdout",
     "output_type": "stream",
     "text": [
      "Hello Python world\n"
     ]
    }
   ],
   "source": [
    "#赋值\n",
    "message = \"Hello Python world\"\n",
    "print(message)"
   ]
  },
  {
   "cell_type": "code",
   "execution_count": 6,
   "id": "3bcc7ef4",
   "metadata": {},
   "outputs": [
    {
     "name": "stdout",
     "output_type": "stream",
     "text": [
      "Ada Lovelace\n",
      "ADA LOVELACE\n",
      "ada lovelace\n"
     ]
    }
   ],
   "source": [
    "#字符串\n",
    "#修改大小写\n",
    "name=\"ada lovelace\"\n",
    "print(name.title())\n",
    "print(name.upper())\n",
    "print(name.lower())"
   ]
  },
  {
   "cell_type": "code",
   "execution_count": 8,
   "id": "41589bf8",
   "metadata": {},
   "outputs": [
    {
     "name": "stdout",
     "output_type": "stream",
     "text": [
      "ada lovelace\n",
      "Hello,Ada Lovelace!\n"
     ]
    }
   ],
   "source": [
    "#合并字符串\n",
    "first_name=\"ada\"\n",
    "last_name=\"lovelace\"\n",
    "full_name=first_name+\" \"+last_name\n",
    "print(full_name)\n",
    "print(\"Hello,\"+full_name.title()+\"!\")"
   ]
  },
  {
   "cell_type": "code",
   "execution_count": 9,
   "id": "5bd39802",
   "metadata": {},
   "outputs": [
    {
     "name": "stdout",
     "output_type": "stream",
     "text": [
      "Languages:\n",
      "\tPython\n",
      "\tC\n",
      "\tJavaScript\n"
     ]
    }
   ],
   "source": [
    "#制表符\\t, 换行符\\n\n",
    "print(\"Languages:\\n\\tPython\\n\\tC\\n\\tJavaScript\")"
   ]
  },
  {
   "cell_type": "code",
   "execution_count": 15,
   "id": "36d175a5",
   "metadata": {
    "scrolled": false
   },
   "outputs": [
    {
     "name": "stdout",
     "output_type": "stream",
     "text": [
      " python\n"
     ]
    },
    {
     "data": {
      "text/plain": [
       "'python'"
      ]
     },
     "execution_count": 15,
     "metadata": {},
     "output_type": "execute_result"
    }
   ],
   "source": [
    "#删除单次末尾空白-暂时\n",
    "favorite_language=' python '\n",
    "favorite_language.rstrip()\n",
    "\n",
    "#永久删除空白\n",
    "favorite_language=favorite_language.rstrip()\n",
    "#删除开头、末尾或均删除\n",
    "print(favorite_language.rstrip())\n",
    "favorite_language.rstrip()\n",
    "favorite_language.lstrip()\n",
    "favorite_language.strip()"
   ]
  },
  {
   "cell_type": "code",
   "execution_count": 17,
   "id": "20aa6f0d",
   "metadata": {},
   "outputs": [
    {
     "name": "stdout",
     "output_type": "stream",
     "text": [
      "Happy 23rd Birthday!\n"
     ]
    }
   ],
   "source": [
    "#str（）将数字型变成字符型\n",
    "age=23\n",
    "message=\"Happy \"+str(age)+\"rd Birthday!\"\n",
    "print(message)"
   ]
  },
  {
   "cell_type": "code",
   "execution_count": 18,
   "id": "58d867a1",
   "metadata": {},
   "outputs": [
    {
     "name": "stdout",
     "output_type": "stream",
     "text": [
      "The Zen of Python, by Tim Peters\n",
      "\n",
      "Beautiful is better than ugly.\n",
      "Explicit is better than implicit.\n",
      "Simple is better than complex.\n",
      "Complex is better than complicated.\n",
      "Flat is better than nested.\n",
      "Sparse is better than dense.\n",
      "Readability counts.\n",
      "Special cases aren't special enough to break the rules.\n",
      "Although practicality beats purity.\n",
      "Errors should never pass silently.\n",
      "Unless explicitly silenced.\n",
      "In the face of ambiguity, refuse the temptation to guess.\n",
      "There should be one-- and preferably only one --obvious way to do it.\n",
      "Although that way may not be obvious at first unless you're Dutch.\n",
      "Now is better than never.\n",
      "Although never is often better than *right* now.\n",
      "If the implementation is hard to explain, it's a bad idea.\n",
      "If the implementation is easy to explain, it may be a good idea.\n",
      "Namespaces are one honking great idea -- let's do more of those!\n"
     ]
    }
   ],
   "source": [
    "#Python 之禅\n",
    "import this"
   ]
  },
  {
   "cell_type": "code",
   "execution_count": 22,
   "id": "7804a6c1",
   "metadata": {},
   "outputs": [
    {
     "name": "stdout",
     "output_type": "stream",
     "text": [
      "trek\n",
      "Trek\n",
      "specialized\n"
     ]
    }
   ],
   "source": [
    "#列表,索引从0而不是1开始，最后一个索引为-1\n",
    "bicycles=['trek','cannondale','redline','specialized']\n",
    "print(bicycles[0])\n",
    "print(bicycles[0].title())\n",
    "print(bicycles[-1])"
   ]
  },
  {
   "cell_type": "code",
   "execution_count": 23,
   "id": "a0134872",
   "metadata": {},
   "outputs": [
    {
     "name": "stdout",
     "output_type": "stream",
     "text": [
      "['honda', 'yamaha', 'suzuki']\n",
      "['ducati', 'yamaha', 'suzuki']\n"
     ]
    }
   ],
   "source": [
    "#修改列表元素\n",
    "motorcycles=['honda','yamaha','suzuki']\n",
    "print(motorcycles)\n",
    "motorcycles[0]='ducati'\n",
    "print(motorcycles)"
   ]
  },
  {
   "cell_type": "code",
   "execution_count": 25,
   "id": "796728b2",
   "metadata": {},
   "outputs": [
    {
     "name": "stdout",
     "output_type": "stream",
     "text": [
      "['honda', 'yamaha', 'suzuki', 'ducati']\n"
     ]
    }
   ],
   "source": [
    "#在列表中添加元素,append----\n",
    "motorcycles=['honda','yamaha','suzuki']\n",
    "motorcycles.append('ducati')\n",
    "print(motorcycles)"
   ]
  },
  {
   "cell_type": "code",
   "execution_count": 26,
   "id": "974f900b",
   "metadata": {},
   "outputs": [
    {
     "name": "stdout",
     "output_type": "stream",
     "text": [
      "['honda', 'yamaha', 'suzuki']\n"
     ]
    }
   ],
   "source": [
    "#创建空列表\n",
    "motorcycles=[]\n",
    "motorcycles.append('honda')\n",
    "motorcycles.append('yamaha')\n",
    "motorcycles.append('suzuki')\n",
    "print(motorcycles)"
   ]
  },
  {
   "cell_type": "code",
   "execution_count": 27,
   "id": "b3f3fab5",
   "metadata": {},
   "outputs": [
    {
     "name": "stdout",
     "output_type": "stream",
     "text": [
      "['ducati', 'honda', 'yamaha', 'suzuki']\n"
     ]
    }
   ],
   "source": [
    "#在列表中插入元素，insert()\n",
    "motorcycles=['honda','yamaha','suzuki']\n",
    "motorcycles.insert(0,'ducati')\n",
    "print(motorcycles)"
   ]
  },
  {
   "cell_type": "code",
   "execution_count": 37,
   "id": "11848ddf",
   "metadata": {},
   "outputs": [
    {
     "name": "stdout",
     "output_type": "stream",
     "text": [
      "['yamaha', 'suzuki']\n",
      "['honda', 'yamaha']\n",
      "suzuki\n",
      "The first motorcycle I owned was a Honda.\n",
      "['honda', 'yamaha', 'suzuki']\n",
      "['honda', 'yamaha', 'suzuki']\n",
      "\n",
      "A Ducati is too expensive for me\n"
     ]
    }
   ],
   "source": [
    "#从列表中删除元素，poppop()可删除列表末尾的元素，并让你能够接着使用它。术语弹出（pop）源自这样的类\n",
    "motorcycles=['honda','yamaha','suzuki']\n",
    "del motorcycles[0]\n",
    "print(motorcycles)\n",
    "\n",
    "#从列表中删除列表末尾元素，pop，列表就像一个栈，而删除列表末尾的元素相当于弹出栈顶元素\n",
    "motorcycles=['honda','yamaha','suzuki']\n",
    "poped_motorcycle=motorcycles.pop()\n",
    "print(motorcycles)\n",
    "print(poped_motorcycle)\n",
    "#pop提供位置索引，删除任何位置的元素\n",
    "motorcycles=['honda','yamaha','suzuki']\n",
    "first_owned=motorcycles.pop(0)\n",
    "print(\"The first motorcycle I owned was a \"+first_owned.title()+\".\")\n",
    "\n",
    "#根据值删除元素，remove \n",
    "motorcycles = ['honda', 'yamaha', 'suzuki', 'ducati']\n",
    "motorcycles.remove('ducati')\n",
    "print(motorcycles)\n",
    "#remove 2\n",
    "motorcycles = ['honda', 'yamaha', 'suzuki', 'ducati']\n",
    "too_expensive='ducati'\n",
    "motorcycles.remove(too_expensive)\n",
    "print(motorcycles)\n",
    "print(\"\\nA \"+too_expensive.title()+\" is too expensive for me\")"
   ]
  },
  {
   "cell_type": "code",
   "execution_count": 41,
   "id": "823cb691",
   "metadata": {},
   "outputs": [
    {
     "name": "stdout",
     "output_type": "stream",
     "text": [
      "['toyota', 'subaru', 'bmw', 'audi']\n",
      "Here is the original list:\n",
      "['bmw', 'audi', 'toyota', 'subaru']\n",
      "\n",
      "Here is the sorted list:\n",
      "['audi', 'bmw', 'subaru', 'toyota']\n",
      "['subaru', 'toyota', 'audi', 'bmw']\n"
     ]
    }
   ],
   "source": [
    "#排序\n",
    "#利用sort对列表进行永久性排序\n",
    "cars = ['bmw', 'audi', 'toyota', 'subaru']\n",
    "cars.sort() #正序\n",
    "cars.sort(reverse=True)#倒序\n",
    "print(cars)\n",
    "#利用sorted进行临时排序\n",
    "cars = ['bmw', 'audi', 'toyota', 'subaru']\n",
    "print(\"Here is the original list:\")\n",
    "print(cars)\n",
    "print(\"\\nHere is the sorted list:\")\n",
    "print(sorted(cars))\n",
    "\n",
    "#倒着打印列表,永久性改变, reverse\n",
    "cars = ['bmw', 'audi', 'toyota', 'subaru']\n",
    "cars.reverse()\n",
    "print(cars)\n"
   ]
  },
  {
   "cell_type": "code",
   "execution_count": 44,
   "id": "41918f4b",
   "metadata": {
    "scrolled": true
   },
   "outputs": [
    {
     "data": {
      "text/plain": [
       "4"
      ]
     },
     "execution_count": 44,
     "metadata": {},
     "output_type": "execute_result"
    }
   ],
   "source": [
    "#确定列表的长度 len()\n",
    "cars = ['bmw', 'audi', 'toyota', 'subaru']\n",
    "len(cars)"
   ]
  },
  {
   "cell_type": "code",
   "execution_count": 46,
   "id": "5663c1b0",
   "metadata": {},
   "outputs": [
    {
     "name": "stdout",
     "output_type": "stream",
     "text": [
      "alice\n",
      "david\n",
      "carolina\n",
      "Alice, that was a great trick\n",
      "David, that was a great trick\n",
      "Carolina, that was a great trick\n"
     ]
    }
   ],
   "source": [
    "#for 循环\n",
    "magicians = ['alice', 'david', 'carolina']\n",
    "for magician in magicians:\n",
    "    print(magician)\n",
    "#更多操作\n",
    "magicians = ['alice', 'david', 'carolina']\n",
    "for magician in magicians:\n",
    "    print(magician.title()+\", that was a great trick\")"
   ]
  },
  {
   "cell_type": "code",
   "execution_count": 49,
   "id": "57c32664",
   "metadata": {},
   "outputs": [
    {
     "name": "stdout",
     "output_type": "stream",
     "text": [
      "1\n",
      "2\n",
      "3\n",
      "4\n",
      "[1, 2, 3, 4, 5]\n",
      "[2, 4, 6, 8, 10]\n",
      "[1, 4, 9, 16, 25, 36, 49, 64, 81, 100]\n"
     ]
    }
   ],
   "source": [
    "#创建数值列表， range(),函数range()让Python从你指定的第一个值开始数，并在到达你指定的第二个值后停止，因此输出不包含第二个值（这里为5）\n",
    "for value in range(1,5):\n",
    "    print(value)\n",
    "\n",
    "#list()将range函数的值直接转换成列表\n",
    "numbers=list(range(1,6))\n",
    "print(numbers)\n",
    "\n",
    "#range()函数指定步长，如打印1-10内的偶数\n",
    "even_numbers=list(range(2,11,2))\n",
    "print(even_numbers)\n",
    "\n",
    "#创建前10个整数1-10的平方\n",
    "squares=[]\n",
    "for value in range(1,11):\n",
    "    square=value**2\n",
    "    squares.append(square)\n",
    "print(squares)\n",
    "#法2\n",
    "squares=[value**2 for value in range(1,11)]"
   ]
  },
  {
   "cell_type": "code",
   "execution_count": 50,
   "id": "f4acc42c",
   "metadata": {},
   "outputs": [
    {
     "data": {
      "text/plain": [
       "45"
      ]
     },
     "execution_count": 50,
     "metadata": {},
     "output_type": "execute_result"
    }
   ],
   "source": [
    "#对数字列表进行简单计算\n",
    "digits = [1, 2, 3, 4, 5, 6, 7, 8, 9, 0]\n",
    "min(digits)\n",
    "max(digits)\n",
    "sum(digits)"
   ]
  },
  {
   "cell_type": "code",
   "execution_count": 59,
   "id": "cf354039",
   "metadata": {},
   "outputs": [
    {
     "name": "stdout",
     "output_type": "stream",
     "text": [
      "[1, 8, 27, 64, 125, 216, 343, 512, 729, 1000]\n",
      "[1, 8, 27, 64, 125, 216, 343, 512, 729, 1000]\n"
     ]
    }
   ],
   "source": [
    "#列表包含1-10的立方\n",
    "tests=[value**3 for value in range(1,11)]\n",
    "print(tests)\n",
    "tests=[]\n",
    "#法二\n",
    "for value in range(1,11):\n",
    "    test=value**3\n",
    "    tests.append(test)\n",
    "print(tests)"
   ]
  },
  {
   "cell_type": "code",
   "execution_count": 62,
   "id": "4369c960",
   "metadata": {},
   "outputs": [
    {
     "name": "stdout",
     "output_type": "stream",
     "text": [
      "['charles', 'martina', 'michael']\n",
      "['charles', 'martina', 'michael', 'florence']\n",
      "['michael', 'florence', 'eli']\n",
      "['michael', 'florence', 'eli']\n",
      "['charles', 'martina', 'michael', 'florence', 'eli', 'michale'] ['charles', 'martina', 'michael', 'florence', 'eli', 'chris']\n"
     ]
    }
   ],
   "source": [
    "#切片，元素提取\n",
    "players = ['charles', 'martina', 'michael', 'florence', 'eli']\n",
    "print(players[0:3])\n",
    "print(players[:4])#没有指定开头索引，自动从列表开头开始\n",
    "print(players[2:])#没有指定结尾索引，自动从列表结尾\n",
    "print(players[-3:])#输出最后三位\n",
    "#复制列表,[:]\n",
    "players = ['charles', 'martina', 'michael', 'florence', 'eli']\n",
    "my_players=players[:]\n",
    "\n",
    "players.append('michale')\n",
    "my_players.append('chris')\n",
    "print(players,my_players)"
   ]
  },
  {
   "cell_type": "code",
   "execution_count": 63,
   "id": "5a6267ce",
   "metadata": {},
   "outputs": [
    {
     "name": "stdout",
     "output_type": "stream",
     "text": [
      "200\n",
      "50\n"
     ]
    }
   ],
   "source": [
    "#元组，不可修改的元素\n",
    "#定义元组\n",
    "dimensions=(200,50)\n",
    "print(dimensions[0])\n",
    "print(dimensions[1])\n",
    "#修改元组变量，虽然不能修改元组的元素，但可以给存储元组的变量赋值\n",
    "dimensions=(400,100)\n"
   ]
  },
  {
   "cell_type": "code",
   "execution_count": 4,
   "id": "cb2bba13",
   "metadata": {},
   "outputs": [
    {
     "name": "stdout",
     "output_type": "stream",
     "text": [
      "Audi\n",
      "BMW\n",
      "Subaru\n",
      "Toyota\n",
      "Sorry, you are too young to vote.\n",
      "Please register to vote as soon as you turn 18\n",
      "Your admission cost is $5.\n",
      "Your admission cost is $5.\n"
     ]
    }
   ],
   "source": [
    "#if语句\n",
    "cars = ['audi', 'bmw', 'subaru', 'toyota']\n",
    "for car in cars:\n",
    "    if car=='bmw':\n",
    "        print(car.upper())\n",
    "    else:\n",
    "        print(car.title())\n",
    "        \n",
    "\n",
    "#if else\n",
    "age=17\n",
    "if age >=18:\n",
    "    print(\"You are old enough to vote!\")\n",
    "    print(\"Have you registered to vote yet?\")\n",
    "else:\n",
    "    print(\"Sorry, you are too young to vote.\")\n",
    "    print(\"Please register to vote as soon as you turn 18\")\n",
    "    \n",
    "#if-elif-else \n",
    "age=12\n",
    "if age<4:\n",
    "    print(\"Your admission cost is $0.\")\n",
    "elif age<18:\n",
    "    print(\"Your admission cost is $5.\")\n",
    "else:\n",
    "    print(\"Your admission cost is $40.\")\n",
    "#法2\n",
    "age=12\n",
    "if age<4:\n",
    "    price=0\n",
    "elif age<19:\n",
    "    price=5\n",
    "else:\n",
    "    price=10\n",
    "print(\"Your admission cost is $\"+str(price)+\".\")\n"
   ]
  },
  {
   "cell_type": "code",
   "execution_count": 10,
   "id": "36d78c1d",
   "metadata": {},
   "outputs": [
    {
     "name": "stdout",
     "output_type": "stream",
     "text": [
      "Adding mushrooms.\n",
      "Adding green peppers.\n",
      "Adding extra cheese.\n",
      "Finished making your pizza!\n",
      "\n",
      "Adding mushrooms.\n",
      "Sorry, we are out of green peppers right now.\n",
      "Adding extra cheese.\n",
      "Finished making your pizza!\n",
      "\n",
      "Are you sure you want a plain pizza?\n",
      "\n",
      "Adding mushrooms.\n",
      "Sorry, we don't havefrench fries.\n",
      "Adding extra cheese.\n"
     ]
    }
   ],
   "source": [
    "#检查特定值是否包含在列表中\n",
    "requested_toppings = ['mushrooms', 'onions', 'pineapple']\n",
    "'mushrooms' in requested_toppings\n",
    "#循环 in+for\n",
    "requested_toppings = ['mushrooms', 'green peppers', 'extra cheese']\n",
    "for requested_topping in requested_toppings:\n",
    "    print(\"Adding \"+requested_topping+\".\")\n",
    "print(\"Finished making your pizza!\\n\")\n",
    "\n",
    "#in+for+if\n",
    "requested_toppings = ['mushrooms', 'green peppers', 'extra cheese']\n",
    "for requested_topping in requested_toppings:\n",
    "    if requested_topping=='green peppers':\n",
    "        print(\"Sorry, we are out of green peppers right now.\")\n",
    "    else:\n",
    "        print(\"Adding \"+requested_topping+\".\")\n",
    "print(\"Finished making your pizza!\\n\")\n",
    "\n",
    "#确保列表不为空\n",
    "requested_toppings=[]\n",
    "if requested_toppings:\n",
    "    for requested_topping in requested_toppings:\n",
    "        print(\"Adding \"+requested_topping+\".\")\n",
    "        print(\"Finished making your pizza!\")\n",
    "else:\n",
    "    print(\"Are you sure you want a plain pizza?\\n\")\n",
    "    \n",
    "#使用两个或多个列表\n",
    "available_toppings = ['mushrooms', 'olives', 'green peppers',\n",
    "'pepperoni', 'pineapple', 'extra cheese']\n",
    "requested_toppings = ['mushrooms', 'french fries', 'extra cheese']\n",
    "for requested_topping in requested_toppings:\n",
    "    if requested_topping in available_toppings:\n",
    "        print(\"Adding \"+requested_topping+\".\")\n",
    "    else:\n",
    "        print(\"Sorry, we don't have\"+requested_topping+\".\")"
   ]
  },
  {
   "cell_type": "code",
   "execution_count": 13,
   "id": "5f08fdbc",
   "metadata": {},
   "outputs": [
    {
     "name": "stdout",
     "output_type": "stream",
     "text": [
      "You just earned 5 points!\n",
      "\n",
      "{'color': 'green', 'points': 5}\n",
      "{'color': 'green', 'points': 5, 'x_position': 0, 'y_position': 25}\n",
      "{'color': 'green', 'points': 5}\n",
      "The alien is green.\n",
      "The alien is now yellow.\n",
      "Original x-position: 0\n",
      "New x-position: 2\n"
     ]
    }
   ],
   "source": [
    "#字典，键，值\n",
    "alien_0 = {'color':'green','points':5}\n",
    "alien_0['color']\n",
    "new_points = alien_0['points']\n",
    "print(\"You just earned \"+str(new_points)+\" points!\\n\")\n",
    "print(alien_0)\n",
    "alien_0['x_position'] = 0\n",
    "alien_0['y_position'] = 25\n",
    "print(alien_0)\n",
    "\n",
    "#创建空字典\n",
    "alien_0 = {}\n",
    "alien_0['color'] = 'green'\n",
    "alien_0['points'] = 5\n",
    "print(alien_0)\n",
    "\n",
    "#修改字典中的值\n",
    "print(\"The alien is \"+alien_0['color']+'.')\n",
    "alien_0['color']='yellow'\n",
    "print(\"The alien is now \"+alien_0['color']+'.\\n')\n",
    "\n",
    "#移动外星人的例子\n",
    "alien_0 = {'x_position': 0, 'y_position': 25, 'speed': 'medium'}\n",
    "print(\"Original x-position: \" + str(alien_0['x_position']))\n",
    "#向右移动外星人\n",
    "#据外星人当前速度决定将其移动多远\n",
    "if alien_0['speed'] == 'slow':\n",
    "    x_increment = 1\n",
    "elif alien_0['speed'] == 'medium':\n",
    "    x_increment = 2\n",
    "else:\n",
    "    x_increment = 3\n",
    "#新位置=老位置+增量\n",
    "alien_0['x_position']=alien_0['x_position']+x_increment\n",
    "print(\"New x-position: \" + str(alien_0['x_position'])+\".\\n\")\n",
    "    \n"
   ]
  },
  {
   "cell_type": "code",
   "execution_count": 14,
   "id": "1465bbc8",
   "metadata": {},
   "outputs": [
    {
     "name": "stdout",
     "output_type": "stream",
     "text": [
      "{'color': 'green', 'points': 5}\n",
      "{'color': 'green'}\n"
     ]
    }
   ],
   "source": [
    "#删除键—值对\n",
    "alien_0 = {'color': 'green', 'points': 5}\n",
    "print(alien_0)\n",
    "del alien_0['points']\n",
    "print(alien_0)"
   ]
  },
  {
   "cell_type": "code",
   "execution_count": 15,
   "id": "0507df01",
   "metadata": {},
   "outputs": [
    {
     "name": "stdout",
     "output_type": "stream",
     "text": [
      "Sarah's favortite language is C.\n"
     ]
    }
   ],
   "source": [
    "#由类似对象组成的字典\n",
    "favorite_languages = {\n",
    "'jen': 'python',\n",
    "'sarah': 'c',\n",
    "'edward': 'ruby',\n",
    "'phil': 'python',\n",
    "}\n",
    "print(\"Sarah's favortite language is \"+\n",
    "     favorite_languages['sarah'].title()+\n",
    "     \".\")"
   ]
  },
  {
   "cell_type": "code",
   "execution_count": null,
   "id": "c474f84c",
   "metadata": {},
   "outputs": [],
   "source": []
  }
 ],
 "metadata": {
  "kernelspec": {
   "display_name": "mask1",
   "language": "python",
   "name": "mask1"
  },
  "language_info": {
   "codemirror_mode": {
    "name": "ipython",
    "version": 3
   },
   "file_extension": ".py",
   "mimetype": "text/x-python",
   "name": "python",
   "nbconvert_exporter": "python",
   "pygments_lexer": "ipython3",
   "version": "3.8.12"
  },
  "toc": {
   "base_numbering": 1,
   "nav_menu": {},
   "number_sections": true,
   "sideBar": true,
   "skip_h1_title": false,
   "title_cell": "Table of Contents",
   "title_sidebar": "Contents",
   "toc_cell": false,
   "toc_position": {},
   "toc_section_display": true,
   "toc_window_display": false
  }
 },
 "nbformat": 4,
 "nbformat_minor": 5
}
