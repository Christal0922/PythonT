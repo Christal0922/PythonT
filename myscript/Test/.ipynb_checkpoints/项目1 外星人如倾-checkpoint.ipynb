{
 "cells": [
  {
   "cell_type": "markdown",
   "id": "45fbef2a",
   "metadata": {},
   "source": [
    "# 武装飞船"
   ]
  },
  {
   "cell_type": "markdown",
   "id": "f8311d62",
   "metadata": {},
   "source": [
    "## "
   ]
  }
 ],
 "metadata": {
  "kernelspec": {
   "display_name": "Python [conda env:mask1]",
   "language": "python",
   "name": "conda-env-mask1-py"
  },
  "language_info": {
   "codemirror_mode": {
    "name": "ipython",
    "version": 3
   },
   "file_extension": ".py",
   "mimetype": "text/x-python",
   "name": "python",
   "nbconvert_exporter": "python",
   "pygments_lexer": "ipython3",
   "version": "3.8.12"
  },
  "toc": {
   "base_numbering": 1,
   "nav_menu": {},
   "number_sections": true,
   "sideBar": true,
   "skip_h1_title": false,
   "title_cell": "Table of Contents",
   "title_sidebar": "Contents",
   "toc_cell": false,
   "toc_position": {},
   "toc_section_display": true,
   "toc_window_display": false
  }
 },
 "nbformat": 4,
 "nbformat_minor": 5
}
